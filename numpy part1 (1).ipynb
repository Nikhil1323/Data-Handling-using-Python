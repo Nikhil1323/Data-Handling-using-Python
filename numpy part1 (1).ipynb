{
 "cells": [
  {
   "cell_type": "markdown",
   "id": "210619c7-553c-470d-a6ee-e20b78e10d27",
   "metadata": {},
   "source": [
    "## Numpy - Numerical Python"
   ]
  },
  {
   "cell_type": "code",
   "execution_count": 2,
   "id": "ee6237b9-cdd0-4725-b42b-f8ccaac4a679",
   "metadata": {},
   "outputs": [],
   "source": [
    "import numpy as np"
   ]
  },
  {
   "cell_type": "code",
   "execution_count": 3,
   "id": "3bc0e472-75fa-4e89-a9bd-c54d2c2ab161",
   "metadata": {},
   "outputs": [],
   "source": [
    "#in numpy we deal with arrays and matrices at any point of time"
   ]
  },
  {
   "cell_type": "code",
   "execution_count": 4,
   "id": "0de9655c-5c24-47e3-997b-84625cfb5200",
   "metadata": {},
   "outputs": [],
   "source": [
    "l = [1,2,3,4]"
   ]
  },
  {
   "cell_type": "code",
   "execution_count": 5,
   "id": "ee31fb4d-290b-40a4-b897-1960be5affc3",
   "metadata": {},
   "outputs": [],
   "source": [
    "ar = np.array(l)\n",
    "#np.array() is used to convert list into array."
   ]
  },
  {
   "cell_type": "code",
   "execution_count": 6,
   "id": "4127231c-5e60-41b1-922c-623e6f74bfe1",
   "metadata": {},
   "outputs": [],
   "source": [
    "#array is a superclass in numpy"
   ]
  },
  {
   "cell_type": "code",
   "execution_count": 7,
   "id": "6dce316f-80f3-4cf4-b878-f5ed8a8df722",
   "metadata": {},
   "outputs": [
    {
     "data": {
      "text/plain": [
       "numpy.ndarray"
      ]
     },
     "execution_count": 7,
     "metadata": {},
     "output_type": "execute_result"
    }
   ],
   "source": [
    "type(ar)"
   ]
  },
  {
   "cell_type": "code",
   "execution_count": 8,
   "id": "fdb06f3f-afb4-4098-af84-1985554a7729",
   "metadata": {},
   "outputs": [],
   "source": [
    "#n-d-array means n-dimensional-array here it is 1D array, we need only one axis to represent it."
   ]
  },
  {
   "cell_type": "code",
   "execution_count": 9,
   "id": "7f7833cb-ce0b-4d11-a169-f88de8ebff13",
   "metadata": {},
   "outputs": [
    {
     "data": {
      "text/plain": [
       "array([[1, 2],\n",
       "       [3, 4]])"
      ]
     },
     "execution_count": 9,
     "metadata": {},
     "output_type": "execute_result"
    }
   ],
   "source": [
    "np.array([[1,2],[3,4]])"
   ]
  },
  {
   "cell_type": "code",
   "execution_count": 10,
   "id": "530cdf7e-0e7f-4c3b-91fb-bdbc4e3ebb4f",
   "metadata": {},
   "outputs": [],
   "source": [
    "#above is 2 D array. We need 2 axis to represent it."
   ]
  },
  {
   "cell_type": "code",
   "execution_count": 11,
   "id": "86e4d080-8d05-4819-aa48-13aa77b9acb2",
   "metadata": {},
   "outputs": [
    {
     "data": {
      "text/plain": [
       "array([1, 2, 3, 4])"
      ]
     },
     "execution_count": 11,
     "metadata": {},
     "output_type": "execute_result"
    }
   ],
   "source": [
    "np.asarray(l) #also performs the task of converting list as array."
   ]
  },
  {
   "cell_type": "code",
   "execution_count": 12,
   "id": "60c9c306-1e4d-4dd6-b5ab-b2abb04f9def",
   "metadata": {},
   "outputs": [],
   "source": [
    "a = [2,3,4]"
   ]
  },
  {
   "cell_type": "code",
   "execution_count": 13,
   "id": "e0d04d09-b0c1-467b-9b88-437c8d7a5422",
   "metadata": {},
   "outputs": [
    {
     "data": {
      "text/plain": [
       "array([2, 3, 4])"
      ]
     },
     "execution_count": 13,
     "metadata": {},
     "output_type": "execute_result"
    }
   ],
   "source": [
    "np.asarray(a)"
   ]
  },
  {
   "cell_type": "code",
   "execution_count": 14,
   "id": "dcb532b8-35ea-43d7-9727-d4b4422fa331",
   "metadata": {},
   "outputs": [],
   "source": [
    "b = np.matrix(l)"
   ]
  },
  {
   "cell_type": "code",
   "execution_count": 15,
   "id": "1526b005-4a90-489d-b954-823a0564dcdb",
   "metadata": {},
   "outputs": [
    {
     "data": {
      "text/plain": [
       "matrix([[1, 2, 3, 4]])"
      ]
     },
     "execution_count": 15,
     "metadata": {},
     "output_type": "execute_result"
    }
   ],
   "source": [
    "b"
   ]
  },
  {
   "cell_type": "code",
   "execution_count": 16,
   "id": "ae77be58-ff8a-47e3-abf6-962dc401e131",
   "metadata": {},
   "outputs": [],
   "source": [
    "#matrix is a subset of array. Matrix bydefault is 2Dimensional."
   ]
  },
  {
   "cell_type": "code",
   "execution_count": 17,
   "id": "01494bc2-1390-4bb4-936d-29f42315a1c9",
   "metadata": {},
   "outputs": [
    {
     "data": {
      "text/plain": [
       "matrix([[1, 2, 3, 4]])"
      ]
     },
     "execution_count": 17,
     "metadata": {},
     "output_type": "execute_result"
    }
   ],
   "source": [
    "np.asanyarray(b)"
   ]
  },
  {
   "cell_type": "code",
   "execution_count": 18,
   "id": "da3eae61-409e-4919-ae64-5fccae0c88d8",
   "metadata": {},
   "outputs": [],
   "source": [
    "#it does not convert the matrix in the array. Asarray function changes to any form of array.\n",
    "# and matrix is also a type/form of array."
   ]
  },
  {
   "cell_type": "code",
   "execution_count": 19,
   "id": "8140bb07-dddd-4ae5-bf28-364c34840467",
   "metadata": {},
   "outputs": [],
   "source": [
    "a = np.array(l)"
   ]
  },
  {
   "cell_type": "code",
   "execution_count": 20,
   "id": "a8e8a656-99fa-4189-81f6-fc610ea2fe73",
   "metadata": {},
   "outputs": [
    {
     "data": {
      "text/plain": [
       "array([1, 2, 3, 4])"
      ]
     },
     "execution_count": 20,
     "metadata": {},
     "output_type": "execute_result"
    }
   ],
   "source": [
    "a"
   ]
  },
  {
   "cell_type": "code",
   "execution_count": 21,
   "id": "d9917777-146c-42e6-815b-1850c7bbf33d",
   "metadata": {},
   "outputs": [],
   "source": [
    "c = a    # It is a shallow copy.\n",
    "#when we write c = a then in our system the new variable also points or references the same data and does not create\n",
    "#a copy of the data Hence any change made using any of the instances has an effect on the other instance pointing the\n",
    "# same array/object"
   ]
  },
  {
   "cell_type": "code",
   "execution_count": 22,
   "id": "b55214ed-18ad-4a12-8c70-f5af9a11150f",
   "metadata": {},
   "outputs": [
    {
     "data": {
      "text/plain": [
       "array([1, 2, 3, 4])"
      ]
     },
     "execution_count": 22,
     "metadata": {},
     "output_type": "execute_result"
    }
   ],
   "source": [
    "c"
   ]
  },
  {
   "cell_type": "code",
   "execution_count": 23,
   "id": "6e48ba59-a373-42c3-9340-463f343cb3d8",
   "metadata": {},
   "outputs": [
    {
     "data": {
      "text/plain": [
       "array([1, 2, 3, 4])"
      ]
     },
     "execution_count": 23,
     "metadata": {},
     "output_type": "execute_result"
    }
   ],
   "source": [
    "a"
   ]
  },
  {
   "cell_type": "code",
   "execution_count": 24,
   "id": "0094b660-d2fb-440c-9a7f-2672b93652cb",
   "metadata": {},
   "outputs": [
    {
     "data": {
      "text/plain": [
       "1"
      ]
     },
     "execution_count": 24,
     "metadata": {},
     "output_type": "execute_result"
    }
   ],
   "source": [
    "c[0]"
   ]
  },
  {
   "cell_type": "code",
   "execution_count": 25,
   "id": "6ec879de-c2f2-4951-ae67-f0a2120f6033",
   "metadata": {},
   "outputs": [],
   "source": [
    "c[0] = 100"
   ]
  },
  {
   "cell_type": "code",
   "execution_count": 26,
   "id": "87efa92f-300f-49b7-b84c-ea5d3cd311dc",
   "metadata": {},
   "outputs": [
    {
     "data": {
      "text/plain": [
       "array([100,   2,   3,   4])"
      ]
     },
     "execution_count": 26,
     "metadata": {},
     "output_type": "execute_result"
    }
   ],
   "source": [
    "c"
   ]
  },
  {
   "cell_type": "code",
   "execution_count": 27,
   "id": "9c5c9d70-8cee-4ff3-b81d-824db1b46acb",
   "metadata": {},
   "outputs": [
    {
     "data": {
      "text/plain": [
       "array([100,   2,   3,   4])"
      ]
     },
     "execution_count": 27,
     "metadata": {},
     "output_type": "execute_result"
    }
   ],
   "source": [
    "a"
   ]
  },
  {
   "cell_type": "code",
   "execution_count": 28,
   "id": "01ec1248-7118-433a-a8b6-e8148c2d7f61",
   "metadata": {},
   "outputs": [],
   "source": [
    "d = np.copy(a)   # this is called as deep copy.\n",
    "#when we create a copy of the array we allot new space in the system and store the value of the array.\n",
    "# so when we make changes in the copy the original is not effected and vice versa"
   ]
  },
  {
   "cell_type": "code",
   "execution_count": 29,
   "id": "27e3e8c6-6387-4860-a303-d2bc4f4a0b9c",
   "metadata": {},
   "outputs": [
    {
     "data": {
      "text/plain": [
       "array([100,   2,   3,   4])"
      ]
     },
     "execution_count": 29,
     "metadata": {},
     "output_type": "execute_result"
    }
   ],
   "source": [
    "d"
   ]
  },
  {
   "cell_type": "code",
   "execution_count": 30,
   "id": "7802ff38-265c-4ed2-8308-65de3be10cba",
   "metadata": {},
   "outputs": [],
   "source": [
    "a[1] = 400"
   ]
  },
  {
   "cell_type": "code",
   "execution_count": 31,
   "id": "5e044f50-301c-4020-a684-0efdeddb8f64",
   "metadata": {},
   "outputs": [
    {
     "data": {
      "text/plain": [
       "array([100, 400,   3,   4])"
      ]
     },
     "execution_count": 31,
     "metadata": {},
     "output_type": "execute_result"
    }
   ],
   "source": [
    "a"
   ]
  },
  {
   "cell_type": "code",
   "execution_count": 32,
   "id": "dcd92ff7-0925-4612-b8dc-274129385613",
   "metadata": {},
   "outputs": [
    {
     "data": {
      "text/plain": [
       "array([100,   2,   3,   4])"
      ]
     },
     "execution_count": 32,
     "metadata": {},
     "output_type": "execute_result"
    }
   ],
   "source": [
    "d"
   ]
  },
  {
   "cell_type": "markdown",
   "id": "3d65ffb9-81a2-41fb-80c2-d162eab6c1cd",
   "metadata": {},
   "source": [
    "# Exploring Functions in Numpy"
   ]
  },
  {
   "cell_type": "code",
   "execution_count": 33,
   "id": "f950fb71-b492-42c8-8051-4860dc84dfc7",
   "metadata": {},
   "outputs": [
    {
     "data": {
      "text/plain": [
       "array([[ True, False, False],\n",
       "       [False,  True, False],\n",
       "       [False, False,  True]])"
      ]
     },
     "execution_count": 33,
     "metadata": {},
     "output_type": "execute_result"
    }
   ],
   "source": [
    "np.fromfunction(lambda i,j : i == j,(3,3)) # to generate an array from the function"
   ]
  },
  {
   "cell_type": "code",
   "execution_count": 34,
   "id": "350f4418-c148-43a9-bd3e-58a3f0ba5690",
   "metadata": {},
   "outputs": [
    {
     "data": {
      "text/plain": [
       "array([[0., 0., 0.],\n",
       "       [0., 1., 2.],\n",
       "       [0., 2., 4.]])"
      ]
     },
     "execution_count": 34,
     "metadata": {},
     "output_type": "execute_result"
    }
   ],
   "source": [
    "np.fromfunction(lambda i,j : i*j,(3,3)) "
   ]
  },
  {
   "cell_type": "code",
   "execution_count": 35,
   "id": "21ec2b74-575e-469a-896c-981883b805e1",
   "metadata": {},
   "outputs": [],
   "source": [
    "iterable = (i*i for i in range(5))"
   ]
  },
  {
   "cell_type": "code",
   "execution_count": 36,
   "id": "0191c582-25ff-498c-8abc-3414246c0aac",
   "metadata": {},
   "outputs": [
    {
     "data": {
      "text/plain": [
       "array([ 0.,  1.,  4.,  9., 16.])"
      ]
     },
     "execution_count": 36,
     "metadata": {},
     "output_type": "execute_result"
    }
   ],
   "source": [
    "np.fromiter(iterable,float) #to generate an array from an iterable object"
   ]
  },
  {
   "cell_type": "code",
   "execution_count": 37,
   "id": "fb0f91b9-0577-40be-9136-22f67fa3a07a",
   "metadata": {},
   "outputs": [
    {
     "data": {
      "text/plain": [
       "array([234., 256.])"
      ]
     },
     "execution_count": 37,
     "metadata": {},
     "output_type": "execute_result"
    }
   ],
   "source": [
    "np.fromstring(\"234 256 \",sep = ' ') # to generate an array from a string seperated by a delimiter which may be space"
   ]
  },
  {
   "cell_type": "code",
   "execution_count": 38,
   "id": "7623badf-a98e-4561-837a-0f69a023a03f",
   "metadata": {},
   "outputs": [
    {
     "data": {
      "text/plain": [
       "array([4., 5.])"
      ]
     },
     "execution_count": 38,
     "metadata": {},
     "output_type": "execute_result"
    }
   ],
   "source": [
    "np.fromstring('4,5',sep = ',') # here the delimiter is coma"
   ]
  },
  {
   "cell_type": "markdown",
   "id": "9fc9c7d6-94e7-4987-9697-5938e652406f",
   "metadata": {},
   "source": [
    "# Numpy Data Types"
   ]
  },
  {
   "cell_type": "code",
   "execution_count": 39,
   "id": "6bf8ae3d-e6e9-4174-8414-a810605db83b",
   "metadata": {},
   "outputs": [],
   "source": [
    "l = [2,3,4,5,6]"
   ]
  },
  {
   "cell_type": "code",
   "execution_count": 40,
   "id": "3846f975-f2d1-4f7f-bee0-3f9153c11ae9",
   "metadata": {},
   "outputs": [],
   "source": [
    "ar = np.array(l)"
   ]
  },
  {
   "cell_type": "code",
   "execution_count": 41,
   "id": "f2cc86fc-1a31-4e5c-b2b4-08848b9ce1c3",
   "metadata": {},
   "outputs": [
    {
     "data": {
      "text/plain": [
       "array([2, 3, 4, 5, 6])"
      ]
     },
     "execution_count": 41,
     "metadata": {},
     "output_type": "execute_result"
    }
   ],
   "source": [
    "ar"
   ]
  },
  {
   "cell_type": "code",
   "execution_count": 42,
   "id": "730280ba-25e3-4690-b298-685edce33c22",
   "metadata": {},
   "outputs": [
    {
     "data": {
      "text/plain": [
       "1"
      ]
     },
     "execution_count": 42,
     "metadata": {},
     "output_type": "execute_result"
    }
   ],
   "source": [
    "ar.ndim # to get the dimensional of array."
   ]
  },
  {
   "cell_type": "code",
   "execution_count": 43,
   "id": "7e7ba8b5-b0c9-4788-8f83-ca08b8ede57c",
   "metadata": {},
   "outputs": [],
   "source": [
    "ar2 = np.array([[1,2,3,4,5],[2,5,6,8,7]]) "
   ]
  },
  {
   "cell_type": "code",
   "execution_count": 44,
   "id": "30b9f380-c823-4005-9b6d-461f56c8ceb2",
   "metadata": {},
   "outputs": [
    {
     "data": {
      "text/plain": [
       "array([[1, 2, 3, 4, 5],\n",
       "       [2, 5, 6, 8, 7]])"
      ]
     },
     "execution_count": 44,
     "metadata": {},
     "output_type": "execute_result"
    }
   ],
   "source": [
    "ar2"
   ]
  },
  {
   "cell_type": "code",
   "execution_count": 45,
   "id": "3b0ef0fa-9115-452f-83e6-a5c49bd41453",
   "metadata": {},
   "outputs": [
    {
     "data": {
      "text/plain": [
       "2"
      ]
     },
     "execution_count": 45,
     "metadata": {},
     "output_type": "execute_result"
    }
   ],
   "source": [
    "ar2.ndim"
   ]
  },
  {
   "cell_type": "code",
   "execution_count": 46,
   "id": "f4e0f201-b321-476f-a184-dfa696ae45c2",
   "metadata": {},
   "outputs": [
    {
     "data": {
      "text/plain": [
       "10"
      ]
     },
     "execution_count": 46,
     "metadata": {},
     "output_type": "execute_result"
    }
   ],
   "source": [
    "ar2.size # returns the number of elements in the array."
   ]
  },
  {
   "cell_type": "code",
   "execution_count": 47,
   "id": "4d1ae70e-2a9a-4cfe-a34b-6f6ab1dfe2fd",
   "metadata": {},
   "outputs": [
    {
     "data": {
      "text/plain": [
       "5"
      ]
     },
     "execution_count": 47,
     "metadata": {},
     "output_type": "execute_result"
    }
   ],
   "source": [
    "ar.size"
   ]
  },
  {
   "cell_type": "code",
   "execution_count": 48,
   "id": "df335b83-63aa-4b6c-a677-3636529b4f5d",
   "metadata": {},
   "outputs": [
    {
     "data": {
      "text/plain": [
       "(5,)"
      ]
     },
     "execution_count": 48,
     "metadata": {},
     "output_type": "execute_result"
    }
   ],
   "source": [
    "ar.shape"
   ]
  },
  {
   "cell_type": "code",
   "execution_count": 49,
   "id": "0429697c-c4c8-4865-8b92-d65be7b16747",
   "metadata": {},
   "outputs": [
    {
     "data": {
      "text/plain": [
       "(2, 5)"
      ]
     },
     "execution_count": 49,
     "metadata": {},
     "output_type": "execute_result"
    }
   ],
   "source": [
    "ar2.shape # returns the number of rows and columns in format (rows,columns)"
   ]
  },
  {
   "cell_type": "code",
   "execution_count": 50,
   "id": "3b842c12-f874-4091-8821-64ab7591e6cf",
   "metadata": {},
   "outputs": [
    {
     "data": {
      "text/plain": [
       "dtype('int64')"
      ]
     },
     "execution_count": 50,
     "metadata": {},
     "output_type": "execute_result"
    }
   ],
   "source": [
    "ar.dtype #return the data type of the elements in the array."
   ]
  },
  {
   "cell_type": "code",
   "execution_count": 51,
   "id": "b843a453-0bd7-4062-894a-4f73dee1e295",
   "metadata": {},
   "outputs": [
    {
     "data": {
      "text/plain": [
       "dtype('int64')"
      ]
     },
     "execution_count": 51,
     "metadata": {},
     "output_type": "execute_result"
    }
   ],
   "source": [
    "ar2.dtype"
   ]
  },
  {
   "cell_type": "code",
   "execution_count": 52,
   "id": "bfc32c00-093f-4bd3-9318-32b41664d8bf",
   "metadata": {},
   "outputs": [],
   "source": [
    "ar22 = np.array([(1.4,45,45),(23,45,66)])"
   ]
  },
  {
   "cell_type": "code",
   "execution_count": 53,
   "id": "a78353ec-adfe-40c9-a9ae-50c3fac70b4e",
   "metadata": {},
   "outputs": [
    {
     "data": {
      "text/plain": [
       "array([[ 1.4, 45. , 45. ],\n",
       "       [23. , 45. , 66. ]])"
      ]
     },
     "execution_count": 53,
     "metadata": {},
     "output_type": "execute_result"
    }
   ],
   "source": [
    "ar22"
   ]
  },
  {
   "cell_type": "code",
   "execution_count": 54,
   "id": "92a61b28-d2e8-4ded-8dab-b0a29b1fe5cb",
   "metadata": {},
   "outputs": [
    {
     "data": {
      "text/plain": [
       "dtype('float64')"
      ]
     },
     "execution_count": 54,
     "metadata": {},
     "output_type": "execute_result"
    }
   ],
   "source": [
    "ar22.dtype"
   ]
  },
  {
   "cell_type": "code",
   "execution_count": 55,
   "id": "09cbec8d-0dd3-4768-8441-729bbf462f16",
   "metadata": {},
   "outputs": [
    {
     "data": {
      "text/plain": [
       "6"
      ]
     },
     "execution_count": 55,
     "metadata": {},
     "output_type": "execute_result"
    }
   ],
   "source": [
    "ar22.size"
   ]
  },
  {
   "cell_type": "code",
   "execution_count": 56,
   "id": "e79ba821-4251-4ab1-89f9-f97fc0d1c84b",
   "metadata": {},
   "outputs": [
    {
     "data": {
      "text/plain": [
       "(2, 3)"
      ]
     },
     "execution_count": 56,
     "metadata": {},
     "output_type": "execute_result"
    }
   ],
   "source": [
    "ar22.shape"
   ]
  },
  {
   "cell_type": "code",
   "execution_count": 61,
   "id": "aa580f56-8974-4457-ae58-1ba8735974ca",
   "metadata": {},
   "outputs": [
    {
     "data": {
      "text/plain": [
       "[0, 1, 2, 3, 4]"
      ]
     },
     "execution_count": 61,
     "metadata": {},
     "output_type": "execute_result"
    }
   ],
   "source": [
    "list(range(5)) #the list function does not give float number in return, neither it support jumps \n",
    "#of floating point number"
   ]
  },
  {
   "cell_type": "code",
   "execution_count": 63,
   "id": "6c840e2d-153f-40e8-ba5c-759822c26b48",
   "metadata": {},
   "outputs": [
    {
     "data": {
      "text/plain": [
       "array([2.3, 3.3, 4.3, 5.3])"
      ]
     },
     "execution_count": 63,
     "metadata": {},
     "output_type": "execute_result"
    }
   ],
   "source": [
    "np.arange(2.3,5.6) # python numpy function of a-range() helps to generate floating point numbers\n",
    "# also the jump can be adjusted."
   ]
  },
  {
   "cell_type": "code",
   "execution_count": 65,
   "id": "ec6cd734-eedd-4a36-b4b1-8fb3b989084f",
   "metadata": {},
   "outputs": [
    {
     "data": {
      "text/plain": [
       "array([2.3, 2.6, 2.9, 3.2, 3.5, 3.8, 4.1, 4.4, 4.7, 5. , 5.3])"
      ]
     },
     "execution_count": 65,
     "metadata": {},
     "output_type": "execute_result"
    }
   ],
   "source": [
    "np.arange(2.3,5.6,.3) # here we have given the jump of 0.3"
   ]
  },
  {
   "cell_type": "code",
   "execution_count": 67,
   "id": "42872b94-8df4-4e5d-896b-e23b352a6eba",
   "metadata": {},
   "outputs": [
    {
     "data": {
      "text/plain": [
       "[2.3,\n",
       " 2.5999999999999996,\n",
       " 2.8999999999999995,\n",
       " 3.1999999999999993,\n",
       " 3.499999999999999,\n",
       " 3.799999999999999,\n",
       " 4.099999999999999,\n",
       " 4.399999999999999,\n",
       " 4.699999999999998,\n",
       " 4.999999999999998,\n",
       " 5.299999999999998]"
      ]
     },
     "execution_count": 67,
     "metadata": {},
     "output_type": "execute_result"
    }
   ],
   "source": [
    "list(np.arange(2.3,5.6,0.3))"
   ]
  },
  {
   "cell_type": "code",
   "execution_count": 71,
   "id": "43748a7c-501d-4d81-b7ea-fa18d3ad7414",
   "metadata": {},
   "outputs": [
    {
     "data": {
      "text/plain": [
       "array([1.        , 1.44444444, 1.88888889, 2.33333333, 2.77777778,\n",
       "       3.22222222, 3.66666667, 4.11111111, 4.55555556, 5.        ])"
      ]
     },
     "execution_count": 71,
     "metadata": {},
     "output_type": "execute_result"
    }
   ],
   "source": [
    "np.linspace(1,5,10) # this function produces 10 data between the given range"
   ]
  },
  {
   "cell_type": "code",
   "execution_count": 72,
   "id": "47d7433b-2402-4163-9b2c-e034fbed0d4f",
   "metadata": {},
   "outputs": [
    {
     "data": {
      "text/plain": [
       "array([0., 0., 0., 0., 0.])"
      ]
     },
     "execution_count": 72,
     "metadata": {},
     "output_type": "execute_result"
    }
   ],
   "source": [
    "np.zeros(5)"
   ]
  },
  {
   "cell_type": "code",
   "execution_count": 76,
   "id": "9bc0d277-1df4-4b51-834c-77463f0515bf",
   "metadata": {},
   "outputs": [
    {
     "data": {
      "text/plain": [
       "array([[0., 0., 0., 0., 0.],\n",
       "       [0., 0., 0., 0., 0.],\n",
       "       [0., 0., 0., 0., 0.]])"
      ]
     },
     "execution_count": 76,
     "metadata": {},
     "output_type": "execute_result"
    }
   ],
   "source": [
    "np.zeros((3,5)) # here we specify rows and columns"
   ]
  },
  {
   "cell_type": "code",
   "execution_count": 77,
   "id": "22365abc-1bcd-4f27-baeb-0c32b829eac9",
   "metadata": {},
   "outputs": [],
   "source": [
    "ar4 = np.zeros((3,4,5)) # we read this 3Dimensional arraqys as\n",
    "# we have 3,  4*5 matrices"
   ]
  },
  {
   "cell_type": "code",
   "execution_count": 78,
   "id": "b62126a5-86e2-4543-8a1e-57ea43b84163",
   "metadata": {},
   "outputs": [
    {
     "data": {
      "text/plain": [
       "array([[[0., 0., 0., 0., 0.],\n",
       "        [0., 0., 0., 0., 0.],\n",
       "        [0., 0., 0., 0., 0.],\n",
       "        [0., 0., 0., 0., 0.]],\n",
       "\n",
       "       [[0., 0., 0., 0., 0.],\n",
       "        [0., 0., 0., 0., 0.],\n",
       "        [0., 0., 0., 0., 0.],\n",
       "        [0., 0., 0., 0., 0.]],\n",
       "\n",
       "       [[0., 0., 0., 0., 0.],\n",
       "        [0., 0., 0., 0., 0.],\n",
       "        [0., 0., 0., 0., 0.],\n",
       "        [0., 0., 0., 0., 0.]]])"
      ]
     },
     "execution_count": 78,
     "metadata": {},
     "output_type": "execute_result"
    }
   ],
   "source": [
    "ar4"
   ]
  },
  {
   "cell_type": "code",
   "execution_count": 79,
   "id": "7a0c796d-c317-44ec-9582-a4359276c765",
   "metadata": {},
   "outputs": [
    {
     "data": {
      "text/plain": [
       "3"
      ]
     },
     "execution_count": 79,
     "metadata": {},
     "output_type": "execute_result"
    }
   ],
   "source": [
    "ar4.ndim"
   ]
  },
  {
   "cell_type": "code",
   "execution_count": 80,
   "id": "9b3afe4b-99e6-4bcb-8b4f-7613940a0dc7",
   "metadata": {},
   "outputs": [
    {
     "data": {
      "text/plain": [
       "(3, 4, 5)"
      ]
     },
     "execution_count": 80,
     "metadata": {},
     "output_type": "execute_result"
    }
   ],
   "source": [
    "ar4.shape"
   ]
  },
  {
   "cell_type": "code",
   "execution_count": 81,
   "id": "172496b2-a602-4249-8fe4-988517e66f9d",
   "metadata": {},
   "outputs": [
    {
     "data": {
      "text/plain": [
       "array([1., 1., 1., 1.])"
      ]
     },
     "execution_count": 81,
     "metadata": {},
     "output_type": "execute_result"
    }
   ],
   "source": [
    "np.ones(4)"
   ]
  },
  {
   "cell_type": "code",
   "execution_count": 82,
   "id": "ceb3bd19-c5d6-4d43-bce8-d9a0a1d20930",
   "metadata": {},
   "outputs": [
    {
     "data": {
      "text/plain": [
       "array([[1., 1., 1.],\n",
       "       [1., 1., 1.]])"
      ]
     },
     "execution_count": 82,
     "metadata": {},
     "output_type": "execute_result"
    }
   ],
   "source": [
    "np.ones((2,3))"
   ]
  },
  {
   "cell_type": "code",
   "execution_count": 84,
   "id": "65af2db9-fccd-4124-ad6b-42b1b4d61451",
   "metadata": {},
   "outputs": [],
   "source": [
    "on = np.ones((2,3,2))"
   ]
  },
  {
   "cell_type": "code",
   "execution_count": 85,
   "id": "b6f1e3a7-b862-41ce-b64a-43220ecbae99",
   "metadata": {},
   "outputs": [
    {
     "data": {
      "text/plain": [
       "array([[[1., 1.],\n",
       "        [1., 1.],\n",
       "        [1., 1.]],\n",
       "\n",
       "       [[1., 1.],\n",
       "        [1., 1.],\n",
       "        [1., 1.]]])"
      ]
     },
     "execution_count": 85,
     "metadata": {},
     "output_type": "execute_result"
    }
   ],
   "source": [
    "on"
   ]
  },
  {
   "cell_type": "code",
   "execution_count": 91,
   "id": "0fd3c8b1-c0a2-4d9e-a3c0-85a15b51c3f8",
   "metadata": {},
   "outputs": [
    {
     "data": {
      "text/plain": [
       "array([[[6., 6.],\n",
       "        [6., 6.],\n",
       "        [6., 6.]],\n",
       "\n",
       "       [[6., 6.],\n",
       "        [6., 6.],\n",
       "        [6., 6.]]])"
      ]
     },
     "execution_count": 91,
     "metadata": {},
     "output_type": "execute_result"
    }
   ],
   "source": [
    "on + 5 # normal arithmetic operations can be performed on the matrix"
   ]
  },
  {
   "cell_type": "code",
   "execution_count": 92,
   "id": "674da9d9-c9fe-4763-b4ab-368aba9920cc",
   "metadata": {},
   "outputs": [
    {
     "data": {
      "text/plain": [
       "array([[[4., 4.],\n",
       "        [4., 4.],\n",
       "        [4., 4.]],\n",
       "\n",
       "       [[4., 4.],\n",
       "        [4., 4.],\n",
       "        [4., 4.]]])"
      ]
     },
     "execution_count": 92,
     "metadata": {},
     "output_type": "execute_result"
    }
   ],
   "source": [
    "on * 4"
   ]
  },
  {
   "cell_type": "code",
   "execution_count": 93,
   "id": "934bf459-a7e1-4955-ae8e-a1b174661fc8",
   "metadata": {},
   "outputs": [
    {
     "data": {
      "text/plain": [
       "array([[[1., 1.],\n",
       "        [1., 1.],\n",
       "        [1., 1.]],\n",
       "\n",
       "       [[1., 1.],\n",
       "        [1., 1.],\n",
       "        [1., 1.]]])"
      ]
     },
     "execution_count": 93,
     "metadata": {},
     "output_type": "execute_result"
    }
   ],
   "source": [
    "on"
   ]
  },
  {
   "cell_type": "code",
   "execution_count": 94,
   "id": "f5c2c840-3b79-475e-aa61-71e17aa6a651",
   "metadata": {},
   "outputs": [
    {
     "data": {
      "text/plain": [
       "array([[0., 0., 0., 0., 0.],\n",
       "       [0., 0., 0., 0., 0.],\n",
       "       [0., 0., 0., 0., 0.]])"
      ]
     },
     "execution_count": 94,
     "metadata": {},
     "output_type": "execute_result"
    }
   ],
   "source": [
    "np.empty((3,5)) # to createan empty matrix with the speciffied number of rows and columns"
   ]
  },
  {
   "cell_type": "code",
   "execution_count": 95,
   "id": "39b54ea5-37d7-448a-94ed-533328f2e05f",
   "metadata": {},
   "outputs": [
    {
     "data": {
      "text/plain": [
       "array([[1., 0., 0., 0.],\n",
       "       [0., 1., 0., 0.],\n",
       "       [0., 0., 1., 0.],\n",
       "       [0., 0., 0., 1.]])"
      ]
     },
     "execution_count": 95,
     "metadata": {},
     "output_type": "execute_result"
    }
   ],
   "source": [
    "np.eye(4) # to create identity matrix"
   ]
  },
  {
   "cell_type": "code",
   "execution_count": 96,
   "id": "9d961b9b-efcd-494d-982c-4dfeb27775e5",
   "metadata": {},
   "outputs": [
    {
     "data": {
      "text/plain": [
       "array([2.        , 2.10526316, 2.21052632, 2.31578947, 2.42105263,\n",
       "       2.52631579, 2.63157895, 2.73684211, 2.84210526, 2.94736842,\n",
       "       3.05263158, 3.15789474, 3.26315789, 3.36842105, 3.47368421,\n",
       "       3.57894737, 3.68421053, 3.78947368, 3.89473684, 4.        ])"
      ]
     },
     "execution_count": 96,
     "metadata": {},
     "output_type": "execute_result"
    }
   ],
   "source": [
    "np.linspace(2,4,20) # it produces the data between the set range and accoding to the no of data specified"
   ]
  },
  {
   "cell_type": "code",
   "execution_count": 99,
   "id": "62f9a802-d498-4af6-874b-5d6f7e3efc30",
   "metadata": {},
   "outputs": [
    {
     "data": {
      "text/plain": [
       "array([   100.        ,    215.443469  ,    464.15888336,   1000.        ,\n",
       "         2154.43469003,   4641.58883361,  10000.        ,  21544.34690032,\n",
       "        46415.88833613, 100000.        ])"
      ]
     },
     "execution_count": 99,
     "metadata": {},
     "output_type": "execute_result"
    }
   ],
   "source": [
    "np.logspace(2,5,10) #it produces the data between the range and according to the number of elements specified\n",
    "#but also calculates the log value and returns the log value of the elements\n",
    "#by default the base is 10 but can be changed using the base parameter."
   ]
  },
  {
   "cell_type": "code",
   "execution_count": 100,
   "id": "79834191-0b70-4543-a63b-c9d4c9ea0a43",
   "metadata": {},
   "outputs": [
    {
     "data": {
      "text/plain": [
       "array([ 4.        ,  4.46263167,  4.97877036,  5.55460457,  6.19703857,\n",
       "        6.91377515,  7.71340798,  8.60552469,  9.60082176, 10.71123281,\n",
       "       11.95007169, 13.3321921 , 14.87416568, 16.59448071, 18.5137638 ,\n",
       "       20.65502717, 23.0439446 , 25.70915925, 28.68262708, 32.        ])"
      ]
     },
     "execution_count": 100,
     "metadata": {},
     "output_type": "execute_result"
    }
   ],
   "source": [
    "np.logspace(2,5,20, base =2)"
   ]
  },
  {
   "cell_type": "code",
   "execution_count": 107,
   "id": "beb466fd-921f-472c-98d7-91aaeb96bd47",
   "metadata": {},
   "outputs": [],
   "source": [
    "arr = np.random.randn(3,4) # it is used to generate random data and also to store it in the desired matrix\n",
    "# it generates such data where the mean of the data is zero and std is 1 which is called as standard normaldistribution"
   ]
  },
  {
   "cell_type": "code",
   "execution_count": 108,
   "id": "9c5248f6-1105-476d-afb4-6df96f2695c0",
   "metadata": {},
   "outputs": [
    {
     "data": {
      "text/plain": [
       "array([[ 1.09622947,  0.71643836, -0.09472175, -0.2819077 ],\n",
       "       [-1.13017614, -0.80483782, -0.12790546,  0.3916549 ],\n",
       "       [ 0.86589652,  0.83910394, -1.69191389, -0.75929992]])"
      ]
     },
     "execution_count": 108,
     "metadata": {},
     "output_type": "execute_result"
    }
   ],
   "source": [
    "arr"
   ]
  },
  {
   "cell_type": "code",
   "execution_count": 109,
   "id": "85140578-b04f-4520-b81a-45c60e42008b",
   "metadata": {},
   "outputs": [],
   "source": [
    "import pandas as pd"
   ]
  },
  {
   "cell_type": "code",
   "execution_count": 110,
   "id": "999f15b7-61b2-4b6f-b392-cd060e2cf0cf",
   "metadata": {},
   "outputs": [
    {
     "data": {
      "text/html": [
       "<div>\n",
       "<style scoped>\n",
       "    .dataframe tbody tr th:only-of-type {\n",
       "        vertical-align: middle;\n",
       "    }\n",
       "\n",
       "    .dataframe tbody tr th {\n",
       "        vertical-align: top;\n",
       "    }\n",
       "\n",
       "    .dataframe thead th {\n",
       "        text-align: right;\n",
       "    }\n",
       "</style>\n",
       "<table border=\"1\" class=\"dataframe\">\n",
       "  <thead>\n",
       "    <tr style=\"text-align: right;\">\n",
       "      <th></th>\n",
       "      <th>0</th>\n",
       "      <th>1</th>\n",
       "      <th>2</th>\n",
       "      <th>3</th>\n",
       "    </tr>\n",
       "  </thead>\n",
       "  <tbody>\n",
       "    <tr>\n",
       "      <th>0</th>\n",
       "      <td>1.096229</td>\n",
       "      <td>0.716438</td>\n",
       "      <td>-0.094722</td>\n",
       "      <td>-0.281908</td>\n",
       "    </tr>\n",
       "    <tr>\n",
       "      <th>1</th>\n",
       "      <td>-1.130176</td>\n",
       "      <td>-0.804838</td>\n",
       "      <td>-0.127905</td>\n",
       "      <td>0.391655</td>\n",
       "    </tr>\n",
       "    <tr>\n",
       "      <th>2</th>\n",
       "      <td>0.865897</td>\n",
       "      <td>0.839104</td>\n",
       "      <td>-1.691914</td>\n",
       "      <td>-0.759300</td>\n",
       "    </tr>\n",
       "  </tbody>\n",
       "</table>\n",
       "</div>"
      ],
      "text/plain": [
       "          0         1         2         3\n",
       "0  1.096229  0.716438 -0.094722 -0.281908\n",
       "1 -1.130176 -0.804838 -0.127905  0.391655\n",
       "2  0.865897  0.839104 -1.691914 -0.759300"
      ]
     },
     "execution_count": 110,
     "metadata": {},
     "output_type": "execute_result"
    }
   ],
   "source": [
    "pd.DataFrame(arr)"
   ]
  },
  {
   "cell_type": "code",
   "execution_count": 112,
   "id": "4f8a3e8a-c062-493f-beeb-26218b8758da",
   "metadata": {},
   "outputs": [
    {
     "data": {
      "text/plain": [
       "array([[0.31280711, 0.9465239 , 0.75513313, 0.50061798],\n",
       "       [0.6846389 , 0.68679533, 0.33883994, 0.44886573],\n",
       "       [0.31368736, 0.13514222, 0.99296864, 0.24962208]])"
      ]
     },
     "execution_count": 112,
     "metadata": {},
     "output_type": "execute_result"
    }
   ],
   "source": [
    "np.random.rand(3,4) # it produces random data"
   ]
  },
  {
   "cell_type": "code",
   "execution_count": 113,
   "id": "8ea7af12-f834-4065-b758-cd3064269df3",
   "metadata": {},
   "outputs": [
    {
     "data": {
      "text/plain": [
       "array([[24, 26,  7, 82],\n",
       "       [21, 23, 26,  6],\n",
       "       [88, 78, 45, 82]])"
      ]
     },
     "execution_count": 113,
     "metadata": {},
     "output_type": "execute_result"
    }
   ],
   "source": [
    "np.random.randint(1,110,(3,4))"
   ]
  },
  {
   "cell_type": "code",
   "execution_count": 115,
   "id": "6d217ad9-0888-497f-be00-3f9d1a381eb0",
   "metadata": {},
   "outputs": [],
   "source": [
    "pd.DataFrame(np.random.randint(1,110,(300,500))).to_csv('test.csv')"
   ]
  },
  {
   "cell_type": "code",
   "execution_count": 116,
   "id": "541552c6-84be-4e0a-af6d-80d841628cdc",
   "metadata": {},
   "outputs": [],
   "source": [
    "arr = np.random.rand(3,4)"
   ]
  },
  {
   "cell_type": "code",
   "execution_count": 117,
   "id": "c7cdedd4-c741-48e2-bc14-060b5c6c25bf",
   "metadata": {},
   "outputs": [
    {
     "data": {
      "text/plain": [
       "array([[0.40648865, 0.4898445 , 0.01909951, 0.10630943],\n",
       "       [0.46509991, 0.62843786, 0.91267973, 0.42143455],\n",
       "       [0.07752393, 0.25691501, 0.0320082 , 0.964839  ]])"
      ]
     },
     "execution_count": 117,
     "metadata": {},
     "output_type": "execute_result"
    }
   ],
   "source": [
    "arr"
   ]
  },
  {
   "cell_type": "code",
   "execution_count": 119,
   "id": "87a99b27-fe3d-49b8-bbae-f578e3f7901e",
   "metadata": {},
   "outputs": [
    {
     "data": {
      "text/plain": [
       "array([[0.40648865, 0.4898445 ],\n",
       "       [0.01909951, 0.10630943],\n",
       "       [0.46509991, 0.62843786],\n",
       "       [0.91267973, 0.42143455],\n",
       "       [0.07752393, 0.25691501],\n",
       "       [0.0320082 , 0.964839  ]])"
      ]
     },
     "execution_count": 119,
     "metadata": {},
     "output_type": "execute_result"
    }
   ],
   "source": [
    "arr.reshape(6,2)  # to change the number of rows and columns for representation of data keeping the data same."
   ]
  },
  {
   "cell_type": "code",
   "execution_count": 120,
   "id": "fc45fa5b-4dc4-4fac-b729-9bc116cb1180",
   "metadata": {},
   "outputs": [],
   "source": [
    "arr1 = arr.reshape(6,-13145523)"
   ]
  },
  {
   "cell_type": "code",
   "execution_count": 121,
   "id": "79b00679-6ba0-42bd-b543-12139cb977b2",
   "metadata": {},
   "outputs": [
    {
     "data": {
      "text/plain": [
       "array([[0.40648865, 0.4898445 ],\n",
       "       [0.01909951, 0.10630943],\n",
       "       [0.46509991, 0.62843786],\n",
       "       [0.91267973, 0.42143455],\n",
       "       [0.07752393, 0.25691501],\n",
       "       [0.0320082 , 0.964839  ]])"
      ]
     },
     "execution_count": 121,
     "metadata": {},
     "output_type": "execute_result"
    }
   ],
   "source": [
    "arr1"
   ]
  },
  {
   "cell_type": "code",
   "execution_count": 122,
   "id": "f2365695-213d-4997-96d6-c5263b3bc6b8",
   "metadata": {},
   "outputs": [
    {
     "data": {
      "text/plain": [
       "0.6284378615944812"
      ]
     },
     "execution_count": 122,
     "metadata": {},
     "output_type": "execute_result"
    }
   ],
   "source": [
    "arr[1,1]"
   ]
  },
  {
   "cell_type": "code",
   "execution_count": 123,
   "id": "7a99cad5-23af-4e49-b0ba-cca750a5395b",
   "metadata": {},
   "outputs": [
    {
     "data": {
      "text/plain": [
       "0.10630942690367473"
      ]
     },
     "execution_count": 123,
     "metadata": {},
     "output_type": "execute_result"
    }
   ],
   "source": [
    "arr1[1,1]"
   ]
  },
  {
   "cell_type": "code",
   "execution_count": 125,
   "id": "a0b49d27-b9b9-490c-99bc-b1a34af60f2a",
   "metadata": {},
   "outputs": [
    {
     "data": {
      "text/plain": [
       "array([0.01909951, 0.10630943])"
      ]
     },
     "execution_count": 125,
     "metadata": {},
     "output_type": "execute_result"
    }
   ],
   "source": [
    "arr1[1]"
   ]
  },
  {
   "cell_type": "code",
   "execution_count": 126,
   "id": "330e0c9c-451b-4ab1-ae5b-ba3f7ac0eed0",
   "metadata": {},
   "outputs": [
    {
     "data": {
      "text/plain": [
       "0.10630942690367473"
      ]
     },
     "execution_count": 126,
     "metadata": {},
     "output_type": "execute_result"
    }
   ],
   "source": [
    "arr1[1][1]"
   ]
  },
  {
   "cell_type": "code",
   "execution_count": 128,
   "id": "f3ed97dd-91cb-465c-a24c-aa9c4bc4e4a6",
   "metadata": {},
   "outputs": [
    {
     "data": {
      "text/plain": [
       "array([0.62843786, 0.42143455, 0.25691501])"
      ]
     },
     "execution_count": 128,
     "metadata": {},
     "output_type": "execute_result"
    }
   ],
   "source": [
    "arr1[2:5,1]"
   ]
  },
  {
   "cell_type": "code",
   "execution_count": 129,
   "id": "f4ecec0a-1fbf-4740-b7c7-4115c9b9adba",
   "metadata": {},
   "outputs": [],
   "source": [
    "arr = np.random.randint(1,100,(5,5))"
   ]
  },
  {
   "cell_type": "code",
   "execution_count": 130,
   "id": "b739e9f3-f114-4849-ac76-44cadce24ce8",
   "metadata": {},
   "outputs": [
    {
     "data": {
      "text/plain": [
       "array([[13, 30, 24,  7, 24],\n",
       "       [ 6, 23, 85, 48, 41],\n",
       "       [30, 32, 49, 68, 61],\n",
       "       [59, 24, 54, 10,  8],\n",
       "       [79, 61, 13, 31, 65]])"
      ]
     },
     "execution_count": 130,
     "metadata": {},
     "output_type": "execute_result"
    }
   ],
   "source": [
    "arr"
   ]
  },
  {
   "cell_type": "code",
   "execution_count": 132,
   "id": "722015d1-eff9-4bc3-9877-d713fd1f3e7d",
   "metadata": {},
   "outputs": [
    {
     "data": {
      "text/plain": [
       "array([85, 68, 61, 59, 54, 79, 61, 65])"
      ]
     },
     "execution_count": 132,
     "metadata": {},
     "output_type": "execute_result"
    }
   ],
   "source": [
    "arr[arr > 50]"
   ]
  },
  {
   "cell_type": "code",
   "execution_count": 139,
   "id": "d938d0e7-ff4f-4620-91e5-b001598756fe",
   "metadata": {},
   "outputs": [
    {
     "data": {
      "text/plain": [
       "array([[32, 49],\n",
       "       [24, 54]])"
      ]
     },
     "execution_count": 139,
     "metadata": {},
     "output_type": "execute_result"
    }
   ],
   "source": [
    "arr[2:4,[1,2]]"
   ]
  },
  {
   "cell_type": "code",
   "execution_count": 140,
   "id": "39a91317-0892-4bcf-995f-c89d0566211c",
   "metadata": {},
   "outputs": [
    {
     "data": {
      "text/plain": [
       "13"
      ]
     },
     "execution_count": 140,
     "metadata": {},
     "output_type": "execute_result"
    }
   ],
   "source": [
    "arr[0][0] "
   ]
  },
  {
   "cell_type": "code",
   "execution_count": 141,
   "id": "deec1ddd-fe4e-4d9d-96bc-951af89bb2db",
   "metadata": {},
   "outputs": [],
   "source": [
    "arr[0][0] = 2000"
   ]
  },
  {
   "cell_type": "code",
   "execution_count": 142,
   "id": "806bc1a0-a46a-4ff8-af33-60b6ad72688b",
   "metadata": {},
   "outputs": [
    {
     "data": {
      "text/plain": [
       "2000"
      ]
     },
     "execution_count": 142,
     "metadata": {},
     "output_type": "execute_result"
    }
   ],
   "source": [
    "arr[0][0]"
   ]
  },
  {
   "cell_type": "code",
   "execution_count": 143,
   "id": "54e3389b-686c-461e-845f-11c158002cc6",
   "metadata": {},
   "outputs": [
    {
     "data": {
      "text/plain": [
       "array([[2000,   30,   24,    7,   24],\n",
       "       [   6,   23,   85,   48,   41],\n",
       "       [  30,   32,   49,   68,   61],\n",
       "       [  59,   24,   54,   10,    8],\n",
       "       [  79,   61,   13,   31,   65]])"
      ]
     },
     "execution_count": 143,
     "metadata": {},
     "output_type": "execute_result"
    }
   ],
   "source": [
    "arr"
   ]
  },
  {
   "cell_type": "code",
   "execution_count": 144,
   "id": "23b07857-5d71-4477-b557-c8da6078330f",
   "metadata": {},
   "outputs": [],
   "source": [
    "arr1 = np.random.randint(1,3,(3,3))"
   ]
  },
  {
   "cell_type": "code",
   "execution_count": 145,
   "id": "9af8a575-3928-4d66-aa17-8e174b73b4b8",
   "metadata": {},
   "outputs": [],
   "source": [
    "arr2 = np.random.randint(1,3,(3,3))"
   ]
  },
  {
   "cell_type": "code",
   "execution_count": 146,
   "id": "90aa2aac-cbec-4c54-a0fe-4a50f0556743",
   "metadata": {},
   "outputs": [
    {
     "data": {
      "text/plain": [
       "array([[2, 2, 1],\n",
       "       [2, 2, 2],\n",
       "       [2, 1, 1]])"
      ]
     },
     "execution_count": 146,
     "metadata": {},
     "output_type": "execute_result"
    }
   ],
   "source": [
    "arr1"
   ]
  },
  {
   "cell_type": "code",
   "execution_count": 147,
   "id": "e92340bf-6d9a-4ef7-a239-4e345936844a",
   "metadata": {},
   "outputs": [
    {
     "data": {
      "text/plain": [
       "array([[2, 2, 1],\n",
       "       [1, 1, 1],\n",
       "       [2, 2, 2]])"
      ]
     },
     "execution_count": 147,
     "metadata": {},
     "output_type": "execute_result"
    }
   ],
   "source": [
    "arr2"
   ]
  },
  {
   "cell_type": "code",
   "execution_count": 148,
   "id": "b5802274-75b8-472a-b5e4-2b33bb03d9b4",
   "metadata": {},
   "outputs": [
    {
     "data": {
      "text/plain": [
       "array([[4, 4, 2],\n",
       "       [3, 3, 3],\n",
       "       [4, 3, 3]])"
      ]
     },
     "execution_count": 148,
     "metadata": {},
     "output_type": "execute_result"
    }
   ],
   "source": [
    "arr1 + arr2"
   ]
  },
  {
   "cell_type": "code",
   "execution_count": 149,
   "id": "77fc08eb-2272-4c62-9e8b-d3f27a546a75",
   "metadata": {},
   "outputs": [
    {
     "data": {
      "text/plain": [
       "array([[1. , 1. , 1. ],\n",
       "       [2. , 2. , 2. ],\n",
       "       [1. , 0.5, 0.5]])"
      ]
     },
     "execution_count": 149,
     "metadata": {},
     "output_type": "execute_result"
    }
   ],
   "source": [
    "arr1 / arr2"
   ]
  },
  {
   "cell_type": "code",
   "execution_count": 150,
   "id": "1bf0380f-2552-4176-87c3-6c74f399b8b5",
   "metadata": {},
   "outputs": [
    {
     "data": {
      "text/plain": [
       "array([[4, 4, 1],\n",
       "       [2, 2, 2],\n",
       "       [4, 2, 2]])"
      ]
     },
     "execution_count": 150,
     "metadata": {},
     "output_type": "execute_result"
    }
   ],
   "source": [
    "arr1 * arr2 # this is not matrix multiplication it is just normal index to index multiplication"
   ]
  },
  {
   "cell_type": "code",
   "execution_count": 152,
   "id": "bf67df6c-8d36-44bf-b171-7bca85d3fe1f",
   "metadata": {},
   "outputs": [
    {
     "data": {
      "text/plain": [
       "array([[ 8,  8,  6],\n",
       "       [10, 10,  8],\n",
       "       [ 7,  7,  5]])"
      ]
     },
     "execution_count": 152,
     "metadata": {},
     "output_type": "execute_result"
    }
   ],
   "source": [
    "arr1 @ arr2  # to perform matrix multiplication we use the symbol @"
   ]
  },
  {
   "cell_type": "code",
   "execution_count": 153,
   "id": "844f212a-d94e-44e9-8f69-3c193081d245",
   "metadata": {},
   "outputs": [
    {
     "name": "stderr",
     "output_type": "stream",
     "text": [
      "/tmp/ipykernel_77/1510032488.py:1: RuntimeWarning: divide by zero encountered in divide\n",
      "  arr1/0\n"
     ]
    },
    {
     "data": {
      "text/plain": [
       "array([[inf, inf, inf],\n",
       "       [inf, inf, inf],\n",
       "       [inf, inf, inf]])"
      ]
     },
     "execution_count": 153,
     "metadata": {},
     "output_type": "execute_result"
    }
   ],
   "source": [
    "arr1/0"
   ]
  },
  {
   "cell_type": "code",
   "execution_count": 154,
   "id": "89098b8a-a98d-4785-b17a-960a81afa7c2",
   "metadata": {},
   "outputs": [
    {
     "data": {
      "text/plain": [
       "array([[102, 102, 101],\n",
       "       [102, 102, 102],\n",
       "       [102, 101, 101]])"
      ]
     },
     "execution_count": 154,
     "metadata": {},
     "output_type": "execute_result"
    }
   ],
   "source": [
    "arr1 +100"
   ]
  },
  {
   "cell_type": "code",
   "execution_count": 155,
   "id": "23fde17b-d0b6-4161-bb6f-4db34be3d54d",
   "metadata": {},
   "outputs": [
    {
     "data": {
      "text/plain": [
       "array([[4, 4, 1],\n",
       "       [4, 4, 4],\n",
       "       [4, 1, 1]])"
      ]
     },
     "execution_count": 155,
     "metadata": {},
     "output_type": "execute_result"
    }
   ],
   "source": [
    "arr1**2"
   ]
  },
  {
   "cell_type": "markdown",
   "id": "7fb7dc3a-3633-44b8-bd8d-532fdbd31c66",
   "metadata": {},
   "source": [
    "# Broadcasting of Array - Numpy"
   ]
  },
  {
   "cell_type": "code",
   "execution_count": 158,
   "id": "74eac0a1-9ad9-4450-829e-9715795e36ae",
   "metadata": {},
   "outputs": [],
   "source": [
    "arr = np.zeros((4,4))"
   ]
  },
  {
   "cell_type": "code",
   "execution_count": 159,
   "id": "d7ec152c-e51d-4153-8a6d-cf87a0c45b7c",
   "metadata": {},
   "outputs": [
    {
     "data": {
      "text/plain": [
       "array([[0., 0., 0., 0.],\n",
       "       [0., 0., 0., 0.],\n",
       "       [0., 0., 0., 0.],\n",
       "       [0., 0., 0., 0.]])"
      ]
     },
     "execution_count": 159,
     "metadata": {},
     "output_type": "execute_result"
    }
   ],
   "source": [
    "arr"
   ]
  },
  {
   "cell_type": "code",
   "execution_count": 160,
   "id": "76471089-e432-4beb-bba1-f25abcff9e60",
   "metadata": {},
   "outputs": [],
   "source": [
    "row = np.array([1,2,3,4])"
   ]
  },
  {
   "cell_type": "code",
   "execution_count": 161,
   "id": "2a6ea992-1f68-4b4d-a868-d85747f36e1d",
   "metadata": {},
   "outputs": [
    {
     "data": {
      "text/plain": [
       "array([1, 2, 3, 4])"
      ]
     },
     "execution_count": 161,
     "metadata": {},
     "output_type": "execute_result"
    }
   ],
   "source": [
    "row"
   ]
  },
  {
   "cell_type": "code",
   "execution_count": 162,
   "id": "5baa827d-89d7-45de-8897-c7e0858d7a20",
   "metadata": {},
   "outputs": [
    {
     "data": {
      "text/plain": [
       "array([[1., 2., 3., 4.],\n",
       "       [1., 2., 3., 4.],\n",
       "       [1., 2., 3., 4.],\n",
       "       [1., 2., 3., 4.]])"
      ]
     },
     "execution_count": 162,
     "metadata": {},
     "output_type": "execute_result"
    }
   ],
   "source": [
    "arr +row"
   ]
  },
  {
   "cell_type": "code",
   "execution_count": 163,
   "id": "85b33bc4-d7f6-4aa4-b39e-cbae76519e29",
   "metadata": {},
   "outputs": [
    {
     "data": {
      "text/plain": [
       "1"
      ]
     },
     "execution_count": 163,
     "metadata": {},
     "output_type": "execute_result"
    }
   ],
   "source": [
    "row.ndim"
   ]
  },
  {
   "cell_type": "code",
   "execution_count": 164,
   "id": "1cd7c319-a0e2-491a-af53-3438ba26673f",
   "metadata": {},
   "outputs": [
    {
     "data": {
      "text/plain": [
       "(4,)"
      ]
     },
     "execution_count": 164,
     "metadata": {},
     "output_type": "execute_result"
    }
   ],
   "source": [
    "row.shape"
   ]
  },
  {
   "cell_type": "code",
   "execution_count": 166,
   "id": "e4b645eb-6bdf-4af9-877b-364f2b3abf05",
   "metadata": {},
   "outputs": [
    {
     "data": {
      "text/plain": [
       "array([1, 2, 3, 4])"
      ]
     },
     "execution_count": 166,
     "metadata": {},
     "output_type": "execute_result"
    }
   ],
   "source": [
    "row.T # to transpose."
   ]
  },
  {
   "cell_type": "code",
   "execution_count": 170,
   "id": "03371779-bd49-40f8-9bbf-0ea5c8e86ffb",
   "metadata": {},
   "outputs": [],
   "source": [
    "col = np.array([[1,2,3,4]])"
   ]
  },
  {
   "cell_type": "code",
   "execution_count": 171,
   "id": "898c2aa7-f45d-4764-a1ba-42bec806c957",
   "metadata": {},
   "outputs": [
    {
     "data": {
      "text/plain": [
       "array([[1, 2, 3, 4]])"
      ]
     },
     "execution_count": 171,
     "metadata": {},
     "output_type": "execute_result"
    }
   ],
   "source": [
    "col"
   ]
  },
  {
   "cell_type": "code",
   "execution_count": 173,
   "id": "8754ea7d-469d-4069-a56d-0a4bb46e70c5",
   "metadata": {},
   "outputs": [
    {
     "data": {
      "text/plain": [
       "array([[1],\n",
       "       [2],\n",
       "       [3],\n",
       "       [4]])"
      ]
     },
     "execution_count": 173,
     "metadata": {},
     "output_type": "execute_result"
    }
   ],
   "source": [
    "col.T"
   ]
  },
  {
   "cell_type": "code",
   "execution_count": 174,
   "id": "5d0b3046-0660-48fd-b518-3f9e886cc5e2",
   "metadata": {},
   "outputs": [
    {
     "data": {
      "text/plain": [
       "array([[1., 1., 1., 1.],\n",
       "       [2., 2., 2., 2.],\n",
       "       [3., 3., 3., 3.],\n",
       "       [4., 4., 4., 4.]])"
      ]
     },
     "execution_count": 174,
     "metadata": {},
     "output_type": "execute_result"
    }
   ],
   "source": [
    "col.T + arr"
   ]
  },
  {
   "cell_type": "code",
   "execution_count": 175,
   "id": "21bd780a-5be8-405b-be21-6144f9759139",
   "metadata": {},
   "outputs": [
    {
     "data": {
      "text/plain": [
       "array([[0., 0., 0., 0.],\n",
       "       [0., 0., 0., 0.],\n",
       "       [0., 0., 0., 0.],\n",
       "       [0., 0., 0., 0.]])"
      ]
     },
     "execution_count": 175,
     "metadata": {},
     "output_type": "execute_result"
    }
   ],
   "source": [
    "arr"
   ]
  },
  {
   "cell_type": "code",
   "execution_count": 177,
   "id": "82b1c2f1-5c88-43dc-a024-279e4ce50a97",
   "metadata": {},
   "outputs": [],
   "source": [
    "arr1 = np.random.randint(1,4,(3,4))"
   ]
  },
  {
   "cell_type": "code",
   "execution_count": 178,
   "id": "91d3db13-47d8-4175-bc5a-4043ea633891",
   "metadata": {},
   "outputs": [
    {
     "data": {
      "text/plain": [
       "array([[3, 2, 1, 3],\n",
       "       [2, 2, 2, 2],\n",
       "       [1, 3, 3, 3]])"
      ]
     },
     "execution_count": 178,
     "metadata": {},
     "output_type": "execute_result"
    }
   ],
   "source": [
    "arr1"
   ]
  },
  {
   "cell_type": "code",
   "execution_count": 179,
   "id": "23111c04-2d7b-42ea-93bc-3b8db130b5f5",
   "metadata": {},
   "outputs": [
    {
     "data": {
      "text/plain": [
       "array([[1.73205081, 1.41421356, 1.        , 1.73205081],\n",
       "       [1.41421356, 1.41421356, 1.41421356, 1.41421356],\n",
       "       [1.        , 1.73205081, 1.73205081, 1.73205081]])"
      ]
     },
     "execution_count": 179,
     "metadata": {},
     "output_type": "execute_result"
    }
   ],
   "source": [
    "np.sqrt(arr1)"
   ]
  },
  {
   "cell_type": "code",
   "execution_count": 180,
   "id": "32dd4c21-4da5-445c-a5c6-510fb88d3667",
   "metadata": {},
   "outputs": [
    {
     "data": {
      "text/plain": [
       "array([[20.08553692,  7.3890561 ,  2.71828183, 20.08553692],\n",
       "       [ 7.3890561 ,  7.3890561 ,  7.3890561 ,  7.3890561 ],\n",
       "       [ 2.71828183, 20.08553692, 20.08553692, 20.08553692]])"
      ]
     },
     "execution_count": 180,
     "metadata": {},
     "output_type": "execute_result"
    }
   ],
   "source": [
    "np.exp(arr1)"
   ]
  },
  {
   "cell_type": "code",
   "execution_count": 181,
   "id": "2982ed08-12da-41d4-a4d5-290895456bbc",
   "metadata": {},
   "outputs": [
    {
     "data": {
      "text/plain": [
       "array([[0.47712125, 0.30103   , 0.        , 0.47712125],\n",
       "       [0.30103   , 0.30103   , 0.30103   , 0.30103   ],\n",
       "       [0.        , 0.47712125, 0.47712125, 0.47712125]])"
      ]
     },
     "execution_count": 181,
     "metadata": {},
     "output_type": "execute_result"
    }
   ],
   "source": [
    "np.log10(arr1)"
   ]
  },
  {
   "cell_type": "code",
   "execution_count": null,
   "id": "8640606d-20c3-46c6-af76-88dcaf5ea9d2",
   "metadata": {},
   "outputs": [],
   "source": []
  }
 ],
 "metadata": {
  "kernelspec": {
   "display_name": "Python 3 (ipykernel)",
   "language": "python",
   "name": "python3"
  },
  "language_info": {
   "codemirror_mode": {
    "name": "ipython",
    "version": 3
   },
   "file_extension": ".py",
   "mimetype": "text/x-python",
   "name": "python",
   "nbconvert_exporter": "python",
   "pygments_lexer": "ipython3",
   "version": "3.10.8"
  }
 },
 "nbformat": 4,
 "nbformat_minor": 5
}
