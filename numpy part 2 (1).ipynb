{
 "cells": [
  {
   "cell_type": "markdown",
   "id": "a4295964-fb22-44e1-a04b-a563163b439a",
   "metadata": {},
   "source": [
    "# Numpy Array manipulation"
   ]
  },
  {
   "cell_type": "code",
   "execution_count": 3,
   "id": "9032df5a-f1d0-4169-a0b0-c883b4c5f341",
   "metadata": {},
   "outputs": [],
   "source": [
    "import numpy as np"
   ]
  },
  {
   "cell_type": "code",
   "execution_count": 4,
   "id": "f414d4ad-503e-471b-893c-aa5ef2dae266",
   "metadata": {},
   "outputs": [],
   "source": [
    "arr = np.random.randint(1,10,(3,4))"
   ]
  },
  {
   "cell_type": "code",
   "execution_count": 5,
   "id": "e46d0d5e-e250-4802-8628-0aca22ee70ab",
   "metadata": {},
   "outputs": [
    {
     "data": {
      "text/plain": [
       "array([[4, 2, 2, 8],\n",
       "       [5, 3, 3, 8],\n",
       "       [8, 4, 7, 3]])"
      ]
     },
     "execution_count": 5,
     "metadata": {},
     "output_type": "execute_result"
    }
   ],
   "source": [
    "arr"
   ]
  },
  {
   "cell_type": "code",
   "execution_count": 6,
   "id": "a5303e67-f359-4eef-9588-a0271d969298",
   "metadata": {},
   "outputs": [
    {
     "data": {
      "text/plain": [
       "array([[4, 2],\n",
       "       [2, 8],\n",
       "       [5, 3],\n",
       "       [3, 8],\n",
       "       [8, 4],\n",
       "       [7, 3]])"
      ]
     },
     "execution_count": 6,
     "metadata": {},
     "output_type": "execute_result"
    }
   ],
   "source": [
    "arr.reshape(6,2)"
   ]
  },
  {
   "cell_type": "code",
   "execution_count": 7,
   "id": "0a63ded4-cf8b-439f-a0e8-bebec4f0f8af",
   "metadata": {},
   "outputs": [
    {
     "data": {
      "text/plain": [
       "array([[4, 2, 2, 8, 5, 3],\n",
       "       [3, 8, 8, 4, 7, 3]])"
      ]
     },
     "execution_count": 7,
     "metadata": {},
     "output_type": "execute_result"
    }
   ],
   "source": [
    "arr.reshape(2,6)"
   ]
  },
  {
   "cell_type": "code",
   "execution_count": 8,
   "id": "5f1b4ba3-41e9-4a13-a9fe-41996a8a6c5d",
   "metadata": {},
   "outputs": [
    {
     "data": {
      "text/plain": [
       "array([[4, 2, 2, 8, 5, 3, 3, 8, 8, 4, 7, 3]])"
      ]
     },
     "execution_count": 8,
     "metadata": {},
     "output_type": "execute_result"
    }
   ],
   "source": [
    "arr.reshape(1,12)"
   ]
  },
  {
   "cell_type": "code",
   "execution_count": 9,
   "id": "1a16fa20-b090-4a9f-adae-441bb19635a4",
   "metadata": {},
   "outputs": [
    {
     "data": {
      "text/plain": [
       "array([[4],\n",
       "       [2],\n",
       "       [2],\n",
       "       [8],\n",
       "       [5],\n",
       "       [3],\n",
       "       [3],\n",
       "       [8],\n",
       "       [8],\n",
       "       [4],\n",
       "       [7],\n",
       "       [3]])"
      ]
     },
     "execution_count": 9,
     "metadata": {},
     "output_type": "execute_result"
    }
   ],
   "source": [
    "arr.reshape(12,1)"
   ]
  },
  {
   "cell_type": "code",
   "execution_count": 10,
   "id": "b0665ddd-047a-41d3-bbf8-0e260523c83d",
   "metadata": {},
   "outputs": [
    {
     "data": {
      "text/plain": [
       "array([[4, 5, 8],\n",
       "       [2, 3, 4],\n",
       "       [2, 3, 7],\n",
       "       [8, 8, 3]])"
      ]
     },
     "execution_count": 10,
     "metadata": {},
     "output_type": "execute_result"
    }
   ],
   "source": [
    "arr.T"
   ]
  },
  {
   "cell_type": "code",
   "execution_count": 13,
   "id": "8799408c-439e-4495-a9e3-e5d060ba41c2",
   "metadata": {},
   "outputs": [
    {
     "data": {
      "text/plain": [
       "array([4, 2, 2, 8, 5, 3, 3, 8, 8, 4, 7, 3])"
      ]
     },
     "execution_count": 13,
     "metadata": {},
     "output_type": "execute_result"
    }
   ],
   "source": [
    "arr.flatten() # converts the multi dimensional data into 1 dimension"
   ]
  },
  {
   "cell_type": "code",
   "execution_count": 14,
   "id": "30a694aa-78ba-46c7-bdce-5ed6dab68da5",
   "metadata": {},
   "outputs": [],
   "source": [
    "arr1 = np.array([1,2,3,3,4])"
   ]
  },
  {
   "cell_type": "code",
   "execution_count": 15,
   "id": "7ae7cb7f-25f1-4851-8619-b14324869d6e",
   "metadata": {},
   "outputs": [
    {
     "data": {
      "text/plain": [
       "1"
      ]
     },
     "execution_count": 15,
     "metadata": {},
     "output_type": "execute_result"
    }
   ],
   "source": [
    "arr1.ndim"
   ]
  },
  {
   "cell_type": "code",
   "execution_count": 16,
   "id": "fb1fa8f5-ef17-481b-981d-c427c4601f72",
   "metadata": {},
   "outputs": [
    {
     "data": {
      "text/plain": [
       "array([[1],\n",
       "       [2],\n",
       "       [3],\n",
       "       [3],\n",
       "       [4]])"
      ]
     },
     "execution_count": 16,
     "metadata": {},
     "output_type": "execute_result"
    }
   ],
   "source": [
    "np.expand_dims(arr1, axis = 1) #used to expand the dimension across the column axis = 1"
   ]
  },
  {
   "cell_type": "code",
   "execution_count": 17,
   "id": "652e81b5-651f-4c03-92da-4a2113684550",
   "metadata": {},
   "outputs": [
    {
     "data": {
      "text/plain": [
       "array([[1, 2, 3, 3, 4]])"
      ]
     },
     "execution_count": 17,
     "metadata": {},
     "output_type": "execute_result"
    }
   ],
   "source": [
    "np.expand_dims(arr1, axis =0) # used to expand the dimension of array across the row. axis = 0 for rows"
   ]
  },
  {
   "cell_type": "code",
   "execution_count": 18,
   "id": "3fc8c874-712a-48ac-b29e-f7b718a99219",
   "metadata": {},
   "outputs": [
    {
     "data": {
      "text/plain": [
       "array([[4, 2, 2, 8],\n",
       "       [5, 3, 3, 8],\n",
       "       [8, 4, 7, 3]])"
      ]
     },
     "execution_count": 18,
     "metadata": {},
     "output_type": "execute_result"
    }
   ],
   "source": [
    "arr"
   ]
  },
  {
   "cell_type": "code",
   "execution_count": 24,
   "id": "1bc93777-fe1c-474a-b95b-ec5609d558c4",
   "metadata": {},
   "outputs": [
    {
     "data": {
      "text/plain": [
       "array([[4, 2, 2, 8],\n",
       "       [5, 3, 3, 8],\n",
       "       [8, 4, 7, 3]])"
      ]
     },
     "execution_count": 24,
     "metadata": {},
     "output_type": "execute_result"
    }
   ],
   "source": [
    "np.squeeze(arr) # here the squeeze function does not work because the list inside the array contains multiple \n",
    "#elements"
   ]
  },
  {
   "cell_type": "code",
   "execution_count": 25,
   "id": "f87481ff-ca2b-4013-944e-7fc7dc1e702f",
   "metadata": {},
   "outputs": [],
   "source": [
    "data = np.array([[1],[2],[3]])"
   ]
  },
  {
   "cell_type": "code",
   "execution_count": 26,
   "id": "5c1257b3-71a9-464a-860f-50e8f5da7460",
   "metadata": {},
   "outputs": [
    {
     "data": {
      "text/plain": [
       "array([[1],\n",
       "       [2],\n",
       "       [3]])"
      ]
     },
     "execution_count": 26,
     "metadata": {},
     "output_type": "execute_result"
    }
   ],
   "source": [
    "data"
   ]
  },
  {
   "cell_type": "code",
   "execution_count": 27,
   "id": "e4a54d10-aa14-4404-ab18-1d60ecb61d91",
   "metadata": {},
   "outputs": [
    {
     "data": {
      "text/plain": [
       "array([1, 2, 3])"
      ]
     },
     "execution_count": 27,
     "metadata": {},
     "output_type": "execute_result"
    }
   ],
   "source": [
    "np.squeeze(data) # here using the squeeze function shrinks the size of arrAY TO 1 DIMENSIONAL."
   ]
  },
  {
   "cell_type": "code",
   "execution_count": 28,
   "id": "b89b341b-65aa-44fc-b3b6-62374c59d163",
   "metadata": {},
   "outputs": [
    {
     "data": {
      "text/plain": [
       "array([1, 1, 1, 2, 2, 2, 3, 3, 3, 3, 3, 3, 4, 4, 4])"
      ]
     },
     "execution_count": 28,
     "metadata": {},
     "output_type": "execute_result"
    }
   ],
   "source": [
    "np.repeat(arr1, 3)"
   ]
  },
  {
   "cell_type": "code",
   "execution_count": 29,
   "id": "0b5aa355-88ec-476c-84eb-d1c661b35c39",
   "metadata": {},
   "outputs": [
    {
     "data": {
      "text/plain": [
       "array([3, 4, 1, 2, 3])"
      ]
     },
     "execution_count": 29,
     "metadata": {},
     "output_type": "execute_result"
    }
   ],
   "source": [
    "np.roll(arr1,2)"
   ]
  },
  {
   "cell_type": "code",
   "execution_count": 30,
   "id": "83c4c850-3712-4d83-b5f7-ce9f846ee67d",
   "metadata": {},
   "outputs": [
    {
     "data": {
      "text/plain": [
       "array([1, 2, 3, 3, 4])"
      ]
     },
     "execution_count": 30,
     "metadata": {},
     "output_type": "execute_result"
    }
   ],
   "source": [
    "arr1"
   ]
  },
  {
   "cell_type": "code",
   "execution_count": 31,
   "id": "2d11e4d9-028f-4584-a19f-fb161102587c",
   "metadata": {},
   "outputs": [
    {
     "data": {
      "text/plain": [
       "array([[1, 0, 0, 0, 0],\n",
       "       [0, 2, 0, 0, 0],\n",
       "       [0, 0, 3, 0, 0],\n",
       "       [0, 0, 0, 3, 0],\n",
       "       [0, 0, 0, 0, 4]])"
      ]
     },
     "execution_count": 31,
     "metadata": {},
     "output_type": "execute_result"
    }
   ],
   "source": [
    "np.diag(arr1)"
   ]
  },
  {
   "cell_type": "markdown",
   "id": "964fbe22-38f0-445b-8e50-f85e4d1a7025",
   "metadata": {},
   "source": [
    "# Numpy - Binary Operations"
   ]
  },
  {
   "cell_type": "code",
   "execution_count": 32,
   "id": "c259c245-e3f7-49d1-9940-c34ea46d44b7",
   "metadata": {},
   "outputs": [],
   "source": [
    "arr1 = np.random.randint(1,10,(3,4))"
   ]
  },
  {
   "cell_type": "code",
   "execution_count": 33,
   "id": "c6befdfa-6ddc-4682-8019-ac68266268a4",
   "metadata": {},
   "outputs": [],
   "source": [
    "arr2 = np.random.randint(1,10,(3,4))"
   ]
  },
  {
   "cell_type": "code",
   "execution_count": 34,
   "id": "5d28ab5a-8e2b-4748-a08e-9603af552e3d",
   "metadata": {},
   "outputs": [
    {
     "data": {
      "text/plain": [
       "array([[ 4, 16, 17, 11],\n",
       "       [ 8, 11, 12,  7],\n",
       "       [12, 12, 10, 10]])"
      ]
     },
     "execution_count": 34,
     "metadata": {},
     "output_type": "execute_result"
    }
   ],
   "source": [
    "arr1 + arr2"
   ]
  },
  {
   "cell_type": "code",
   "execution_count": 35,
   "id": "466f1285-8cca-472b-97de-7d2568876b9b",
   "metadata": {},
   "outputs": [
    {
     "data": {
      "text/plain": [
       "array([[ 4, 63, 72, 24],\n",
       "       [12, 24, 27, 12],\n",
       "       [27, 27, 24, 25]])"
      ]
     },
     "execution_count": 35,
     "metadata": {},
     "output_type": "execute_result"
    }
   ],
   "source": [
    "arr1 * arr2"
   ]
  },
  {
   "cell_type": "code",
   "execution_count": 36,
   "id": "36b7e9e5-ecd7-4753-9c3d-3964834a43ac",
   "metadata": {},
   "outputs": [
    {
     "data": {
      "text/plain": [
       "array([[1.        , 0.77777778, 0.88888889, 2.66666667],\n",
       "       [3.        , 2.66666667, 3.        , 1.33333333],\n",
       "       [3.        , 0.33333333, 0.66666667, 1.        ]])"
      ]
     },
     "execution_count": 36,
     "metadata": {},
     "output_type": "execute_result"
    }
   ],
   "source": [
    "arr1/arr2"
   ]
  },
  {
   "cell_type": "code",
   "execution_count": 37,
   "id": "82920ce4-ae7f-43aa-855c-68eab6b67785",
   "metadata": {},
   "outputs": [
    {
     "data": {
      "text/plain": [
       "array([[ 0, -2, -1,  5],\n",
       "       [ 4,  5,  6,  1],\n",
       "       [ 6, -6, -2,  0]])"
      ]
     },
     "execution_count": 37,
     "metadata": {},
     "output_type": "execute_result"
    }
   ],
   "source": [
    "arr1 - arr2"
   ]
  },
  {
   "cell_type": "code",
   "execution_count": 38,
   "id": "0af411bf-c593-4843-8c6f-2a6e903652a1",
   "metadata": {},
   "outputs": [
    {
     "data": {
      "text/plain": [
       "array([[0, 7, 8, 2],\n",
       "       [0, 2, 0, 1],\n",
       "       [0, 3, 4, 0]])"
      ]
     },
     "execution_count": 38,
     "metadata": {},
     "output_type": "execute_result"
    }
   ],
   "source": [
    "arr1% arr2"
   ]
  },
  {
   "cell_type": "code",
   "execution_count": 39,
   "id": "ac334f4d-d37d-406a-97c8-27d4b80f6090",
   "metadata": {},
   "outputs": [
    {
     "data": {
      "text/plain": [
       "array([[        4,  40353607, 134217728,       512],\n",
       "       [       36,       512,       729,        64],\n",
       "       [      729,     19683,      4096,      3125]])"
      ]
     },
     "execution_count": 39,
     "metadata": {},
     "output_type": "execute_result"
    }
   ],
   "source": [
    "arr1**arr2"
   ]
  },
  {
   "cell_type": "code",
   "execution_count": 41,
   "id": "d8423bb4-1d3e-481e-beba-2f1b41b478a8",
   "metadata": {},
   "outputs": [
    {
     "data": {
      "text/plain": [
       "array([[ -3,  -8,  -9,  -9],\n",
       "       [ -7,  -9, -10,  -5],\n",
       "       [-10,  -4,  -5,  -6]])"
      ]
     },
     "execution_count": 41,
     "metadata": {},
     "output_type": "execute_result"
    }
   ],
   "source": [
    "~arr1 # This is a negate operation on an array"
   ]
  },
  {
   "cell_type": "code",
   "execution_count": 42,
   "id": "f7ce60f2-dc79-480a-a447-6754577d0cf3",
   "metadata": {},
   "outputs": [
    {
     "data": {
      "text/plain": [
       "array([[ 2, 15,  9, 11],\n",
       "       [ 6, 11, 11,  7],\n",
       "       [11, 11,  6,  5]])"
      ]
     },
     "execution_count": 42,
     "metadata": {},
     "output_type": "execute_result"
    }
   ],
   "source": [
    "arr1 | arr2"
   ]
  },
  {
   "cell_type": "code",
   "execution_count": 43,
   "id": "4976b0bf-00d8-4ca2-a77e-77af286d4cac",
   "metadata": {},
   "outputs": [
    {
     "data": {
      "text/plain": [
       "array([[False, False, False,  True],\n",
       "       [ True,  True,  True,  True],\n",
       "       [ True, False, False, False]])"
      ]
     },
     "execution_count": 43,
     "metadata": {},
     "output_type": "execute_result"
    }
   ],
   "source": [
    "arr1 > arr2"
   ]
  },
  {
   "cell_type": "markdown",
   "id": "7acf688e-c469-4b47-b066-9d88215937d2",
   "metadata": {},
   "source": [
    "# Numpy String Function"
   ]
  },
  {
   "cell_type": "code",
   "execution_count": 45,
   "id": "ab92a886-4384-4083-a0d2-96e8417e1340",
   "metadata": {},
   "outputs": [],
   "source": [
    "arr = np.array(['nikhil','yash'])"
   ]
  },
  {
   "cell_type": "code",
   "execution_count": 46,
   "id": "bfff887c-b8a7-49ad-a582-bdd8664c68b1",
   "metadata": {},
   "outputs": [
    {
     "data": {
      "text/plain": [
       "array(['nikhil', 'yash'], dtype='<U6')"
      ]
     },
     "execution_count": 46,
     "metadata": {},
     "output_type": "execute_result"
    }
   ],
   "source": [
    "arr"
   ]
  },
  {
   "cell_type": "code",
   "execution_count": 47,
   "id": "aebd0619-76ba-476e-b918-26b4f9cdd1b0",
   "metadata": {},
   "outputs": [
    {
     "data": {
      "text/plain": [
       "array(['NIKHIL', 'YASH'], dtype='<U6')"
      ]
     },
     "execution_count": 47,
     "metadata": {},
     "output_type": "execute_result"
    }
   ],
   "source": [
    "np.char.upper(arr)"
   ]
  },
  {
   "cell_type": "code",
   "execution_count": 48,
   "id": "19e4dda7-3b85-4960-85d1-de90844d3fd4",
   "metadata": {},
   "outputs": [
    {
     "data": {
      "text/plain": [
       "array(['Nikhil', 'Yash'], dtype='<U6')"
      ]
     },
     "execution_count": 48,
     "metadata": {},
     "output_type": "execute_result"
    }
   ],
   "source": [
    "np.char.title(arr)"
   ]
  },
  {
   "cell_type": "code",
   "execution_count": 49,
   "id": "517707da-0a5a-4c5f-b5da-7406440e22d8",
   "metadata": {},
   "outputs": [
    {
     "data": {
      "text/plain": [
       "array(['Nikhil', 'Yash'], dtype='<U6')"
      ]
     },
     "execution_count": 49,
     "metadata": {},
     "output_type": "execute_result"
    }
   ],
   "source": [
    "np.char.capitalize(arr)"
   ]
  },
  {
   "cell_type": "code",
   "execution_count": 50,
   "id": "b12daa65-d069-41e0-ad65-4c853a6eca8c",
   "metadata": {},
   "outputs": [
    {
     "data": {
      "text/plain": [
       "array(['nikhil', 'yash'], dtype='<U6')"
      ]
     },
     "execution_count": 50,
     "metadata": {},
     "output_type": "execute_result"
    }
   ],
   "source": [
    "np.char.lower(arr)"
   ]
  },
  {
   "cell_type": "markdown",
   "id": "b429d045-e2df-463f-adf7-657f9e5ddd6e",
   "metadata": {},
   "source": [
    "# Numpy - Mathematical Function"
   ]
  },
  {
   "cell_type": "code",
   "execution_count": 52,
   "id": "5e41e283-eabe-4934-a4af-cfbd8cf1ed8d",
   "metadata": {},
   "outputs": [
    {
     "data": {
      "text/plain": [
       "array([[2, 7, 8, 8],\n",
       "       [6, 8, 9, 4],\n",
       "       [9, 3, 4, 5]])"
      ]
     },
     "execution_count": 52,
     "metadata": {},
     "output_type": "execute_result"
    }
   ],
   "source": [
    "arr1"
   ]
  },
  {
   "cell_type": "code",
   "execution_count": 53,
   "id": "6f281945-3375-4f81-97d3-34e794263b94",
   "metadata": {},
   "outputs": [
    {
     "data": {
      "text/plain": [
       "array([[ 0.90929743,  0.6569866 ,  0.98935825,  0.98935825],\n",
       "       [-0.2794155 ,  0.98935825,  0.41211849, -0.7568025 ],\n",
       "       [ 0.41211849,  0.14112001, -0.7568025 , -0.95892427]])"
      ]
     },
     "execution_count": 53,
     "metadata": {},
     "output_type": "execute_result"
    }
   ],
   "source": [
    "np.sin(arr1)"
   ]
  },
  {
   "cell_type": "code",
   "execution_count": 54,
   "id": "020cf3aa-854d-4680-98f7-06f00b3a646e",
   "metadata": {},
   "outputs": [
    {
     "data": {
      "text/plain": [
       "array([[-0.41614684,  0.75390225, -0.14550003, -0.14550003],\n",
       "       [ 0.96017029, -0.14550003, -0.91113026, -0.65364362],\n",
       "       [-0.91113026, -0.9899925 , -0.65364362,  0.28366219]])"
      ]
     },
     "execution_count": 54,
     "metadata": {},
     "output_type": "execute_result"
    }
   ],
   "source": [
    "np.cos(arr1)"
   ]
  },
  {
   "cell_type": "code",
   "execution_count": 55,
   "id": "a59ddbb7-6aa6-4638-839f-5e347da80c27",
   "metadata": {},
   "outputs": [
    {
     "data": {
      "text/plain": [
       "array([[-2.18503986,  0.87144798, -6.79971146, -6.79971146],\n",
       "       [-0.29100619, -6.79971146, -0.45231566,  1.15782128],\n",
       "       [-0.45231566, -0.14254654,  1.15782128, -3.38051501]])"
      ]
     },
     "execution_count": 55,
     "metadata": {},
     "output_type": "execute_result"
    }
   ],
   "source": [
    "np.tan(arr1)"
   ]
  },
  {
   "cell_type": "code",
   "execution_count": 56,
   "id": "a73ef25f-276f-4ccb-87cb-1453f6a71eaa",
   "metadata": {},
   "outputs": [
    {
     "data": {
      "text/plain": [
       "array([[3.62686041e+00, 5.48316123e+02, 1.49047883e+03, 1.49047883e+03],\n",
       "       [2.01713157e+02, 1.49047883e+03, 4.05154190e+03, 2.72899172e+01],\n",
       "       [4.05154190e+03, 1.00178749e+01, 2.72899172e+01, 7.42032106e+01]])"
      ]
     },
     "execution_count": 56,
     "metadata": {},
     "output_type": "execute_result"
    }
   ],
   "source": [
    "np.sinh(arr1)"
   ]
  },
  {
   "cell_type": "code",
   "execution_count": 57,
   "id": "3e00f87a-aab7-473a-90e7-eef40df5d3a8",
   "metadata": {},
   "outputs": [
    {
     "data": {
      "text/plain": [
       "array([[0.96402758, 0.99999834, 0.99999977, 0.99999977],\n",
       "       [0.99998771, 0.99999977, 0.99999997, 0.9993293 ],\n",
       "       [0.99999997, 0.99505475, 0.9993293 , 0.9999092 ]])"
      ]
     },
     "execution_count": 57,
     "metadata": {},
     "output_type": "execute_result"
    }
   ],
   "source": [
    "np.tanh(arr1)"
   ]
  },
  {
   "cell_type": "code",
   "execution_count": 58,
   "id": "78845e2f-338e-4ceb-bf24-eb4a2739a992",
   "metadata": {},
   "outputs": [
    {
     "data": {
      "text/plain": [
       "array([[0.69314718, 1.94591015, 2.07944154, 2.07944154],\n",
       "       [1.79175947, 2.07944154, 2.19722458, 1.38629436],\n",
       "       [2.19722458, 1.09861229, 1.38629436, 1.60943791]])"
      ]
     },
     "execution_count": 58,
     "metadata": {},
     "output_type": "execute_result"
    }
   ],
   "source": [
    "np.log(arr1)"
   ]
  },
  {
   "cell_type": "code",
   "execution_count": 59,
   "id": "f2dbe146-e775-4ad3-b99a-66eb3c73e2e7",
   "metadata": {},
   "outputs": [
    {
     "data": {
      "text/plain": [
       "array([[7.38905610e+00, 1.09663316e+03, 2.98095799e+03, 2.98095799e+03],\n",
       "       [4.03428793e+02, 2.98095799e+03, 8.10308393e+03, 5.45981500e+01],\n",
       "       [8.10308393e+03, 2.00855369e+01, 5.45981500e+01, 1.48413159e+02]])"
      ]
     },
     "execution_count": 59,
     "metadata": {},
     "output_type": "execute_result"
    }
   ],
   "source": [
    "np.exp(arr1)"
   ]
  },
  {
   "cell_type": "code",
   "execution_count": 60,
   "id": "d68b0e34-ae2e-4e4b-90cb-fec6e19199c1",
   "metadata": {},
   "outputs": [
    {
     "data": {
      "text/plain": [
       "array([[1.41421356, 2.64575131, 2.82842712, 2.82842712],\n",
       "       [2.44948974, 2.82842712, 3.        , 2.        ],\n",
       "       [3.        , 1.73205081, 2.        , 2.23606798]])"
      ]
     },
     "execution_count": 60,
     "metadata": {},
     "output_type": "execute_result"
    }
   ],
   "source": [
    "np.sqrt(arr1)"
   ]
  },
  {
   "cell_type": "code",
   "execution_count": 61,
   "id": "4466b1bb-53dd-43bd-80c5-ac2601e48a78",
   "metadata": {},
   "outputs": [
    {
     "data": {
      "text/plain": [
       "array([[ 4, 49, 64, 64],\n",
       "       [36, 64, 81, 16],\n",
       "       [81,  9, 16, 25]])"
      ]
     },
     "execution_count": 61,
     "metadata": {},
     "output_type": "execute_result"
    }
   ],
   "source": [
    "np.power(arr1,2)"
   ]
  },
  {
   "cell_type": "code",
   "execution_count": 62,
   "id": "46e44a95-a621-4fb4-879e-851c09115e08",
   "metadata": {},
   "outputs": [
    {
     "data": {
      "text/plain": [
       "6.083333333333333"
      ]
     },
     "execution_count": 62,
     "metadata": {},
     "output_type": "execute_result"
    }
   ],
   "source": [
    "np.mean(arr1)"
   ]
  },
  {
   "cell_type": "code",
   "execution_count": 63,
   "id": "9e987bb5-a4c6-4e05-b165-8551d4f0f925",
   "metadata": {},
   "outputs": [
    {
     "data": {
      "text/plain": [
       "6.5"
      ]
     },
     "execution_count": 63,
     "metadata": {},
     "output_type": "execute_result"
    }
   ],
   "source": [
    "np.median(arr1)"
   ]
  },
  {
   "cell_type": "code",
   "execution_count": 66,
   "id": "748e7f25-bf12-41af-be1a-d3dbb79f4be8",
   "metadata": {},
   "outputs": [
    {
     "data": {
      "text/plain": [
       "2.32588095615881"
      ]
     },
     "execution_count": 66,
     "metadata": {},
     "output_type": "execute_result"
    }
   ],
   "source": [
    "np.std(arr1)"
   ]
  },
  {
   "cell_type": "code",
   "execution_count": 68,
   "id": "c35e804e-2cac-4564-bd88-ca69cfb33b47",
   "metadata": {},
   "outputs": [
    {
     "data": {
      "text/plain": [
       "2"
      ]
     },
     "execution_count": 68,
     "metadata": {},
     "output_type": "execute_result"
    }
   ],
   "source": [
    "np.min(arr1)"
   ]
  },
  {
   "cell_type": "code",
   "execution_count": 69,
   "id": "145a50a2-0771-4cc0-b9ab-b0b6724647af",
   "metadata": {},
   "outputs": [
    {
     "data": {
      "text/plain": [
       "9"
      ]
     },
     "execution_count": 69,
     "metadata": {},
     "output_type": "execute_result"
    }
   ],
   "source": [
    "np.max(arr1)"
   ]
  },
  {
   "cell_type": "code",
   "execution_count": null,
   "id": "aadec5f0-d71a-4672-91da-4f71c0f74dc9",
   "metadata": {},
   "outputs": [],
   "source": []
  }
 ],
 "metadata": {
  "kernelspec": {
   "display_name": "Python 3 (ipykernel)",
   "language": "python",
   "name": "python3"
  },
  "language_info": {
   "codemirror_mode": {
    "name": "ipython",
    "version": 3
   },
   "file_extension": ".py",
   "mimetype": "text/x-python",
   "name": "python",
   "nbconvert_exporter": "python",
   "pygments_lexer": "ipython3",
   "version": "3.10.8"
  }
 },
 "nbformat": 4,
 "nbformat_minor": 5
}
