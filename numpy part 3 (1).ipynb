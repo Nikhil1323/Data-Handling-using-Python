{
 "cells": [
  {
   "cell_type": "markdown",
   "id": "9d9ed6fe-4e28-4985-a585-0225a295ae04",
   "metadata": {},
   "source": [
    "# Sort, Search & Counting Functions"
   ]
  },
  {
   "cell_type": "code",
   "execution_count": 1,
   "id": "c160fede-1600-48ad-be47-e0ffe762e6c5",
   "metadata": {},
   "outputs": [],
   "source": [
    "import numpy as np"
   ]
  },
  {
   "cell_type": "code",
   "execution_count": 2,
   "id": "12d8eef8-c95b-4f53-acf3-7e88d86f8f57",
   "metadata": {},
   "outputs": [],
   "source": [
    "arr = np.array([4,2,3,5,86,1,25,36,45])"
   ]
  },
  {
   "cell_type": "code",
   "execution_count": 3,
   "id": "39666e00-b83c-4c89-a45f-54f0f2794114",
   "metadata": {},
   "outputs": [
    {
     "data": {
      "text/plain": [
       "array([ 4,  2,  3,  5, 86,  1, 25, 36, 45])"
      ]
     },
     "execution_count": 3,
     "metadata": {},
     "output_type": "execute_result"
    }
   ],
   "source": [
    "arr"
   ]
  },
  {
   "cell_type": "code",
   "execution_count": 4,
   "id": "4c13d15a-410e-4b70-824f-bea1fac391e8",
   "metadata": {},
   "outputs": [
    {
     "data": {
      "text/plain": [
       "array([ 1,  2,  3,  4,  5, 25, 36, 45, 86])"
      ]
     },
     "execution_count": 4,
     "metadata": {},
     "output_type": "execute_result"
    }
   ],
   "source": [
    "np.sort(arr)"
   ]
  },
  {
   "cell_type": "code",
   "execution_count": 5,
   "id": "252bbf94-eca8-41b0-b558-5039049595db",
   "metadata": {},
   "outputs": [
    {
     "data": {
      "text/plain": [
       "4"
      ]
     },
     "execution_count": 5,
     "metadata": {},
     "output_type": "execute_result"
    }
   ],
   "source": [
    "np.searchsorted(arr, 35)"
   ]
  },
  {
   "cell_type": "code",
   "execution_count": 6,
   "id": "3f2468e9-61bd-4e70-981d-16051aac8b49",
   "metadata": {},
   "outputs": [],
   "source": [
    "arr1 = np.array([0,345,122,15,48,15,0,16,245,0])"
   ]
  },
  {
   "cell_type": "code",
   "execution_count": 7,
   "id": "761ea24c-0370-4946-a828-47bb467c8363",
   "metadata": {},
   "outputs": [
    {
     "data": {
      "text/plain": [
       "7"
      ]
     },
     "execution_count": 7,
     "metadata": {},
     "output_type": "execute_result"
    }
   ],
   "source": [
    "np.count_nonzero(arr1)"
   ]
  },
  {
   "cell_type": "code",
   "execution_count": 8,
   "id": "71fdaaab-5e56-463e-8fb8-8a192ef431bf",
   "metadata": {},
   "outputs": [
    {
     "data": {
      "text/plain": [
       "array([ 4,  2,  3,  5, 86,  1, 25, 36, 45])"
      ]
     },
     "execution_count": 8,
     "metadata": {},
     "output_type": "execute_result"
    }
   ],
   "source": [
    "arr"
   ]
  },
  {
   "cell_type": "code",
   "execution_count": 10,
   "id": "ed0a8eb8-4aa6-43c4-b240-15de2621bed1",
   "metadata": {},
   "outputs": [
    {
     "data": {
      "text/plain": [
       "(array([4, 6, 7, 8]),)"
      ]
     },
     "execution_count": 10,
     "metadata": {},
     "output_type": "execute_result"
    }
   ],
   "source": [
    "np.where(arr > 6) # returns the indexes where the dATA IS GREATER THAN 6"
   ]
  },
  {
   "cell_type": "code",
   "execution_count": 12,
   "id": "aaa7b203-b5c4-4946-bb8a-00b42269d109",
   "metadata": {},
   "outputs": [
    {
     "data": {
      "text/plain": [
       "array([86, 25, 36, 45])"
      ]
     },
     "execution_count": 12,
     "metadata": {},
     "output_type": "execute_result"
    }
   ],
   "source": [
    "np.extract(arr > 6, arr)"
   ]
  },
  {
   "cell_type": "code",
   "execution_count": 13,
   "id": "5923fb8a-af55-4f6c-abed-04e21a8d05d6",
   "metadata": {},
   "outputs": [
    {
     "data": {
      "text/plain": [
       "array([ 4,  2,  3,  5, 86,  1, 25, 36, 45])"
      ]
     },
     "execution_count": 13,
     "metadata": {},
     "output_type": "execute_result"
    }
   ],
   "source": [
    "arr"
   ]
  },
  {
   "cell_type": "code",
   "execution_count": 15,
   "id": "3ec2deb3-cfbe-4fe6-9bd3-1928264617c1",
   "metadata": {},
   "outputs": [
    {
     "data": {
      "text/plain": [
       "array([ 288230376151711744,  144115188075855872,  216172782113783808,\n",
       "        360287970189639680, 6196953087261802496,   72057594037927936,\n",
       "       1801439850948198400, 2594073385365405696, 3242591731706757120])"
      ]
     },
     "execution_count": 15,
     "metadata": {},
     "output_type": "execute_result"
    }
   ],
   "source": [
    "arr.byteswap() # shows the byte data of the available elements"
   ]
  },
  {
   "cell_type": "code",
   "execution_count": 25,
   "id": "237b3781-6eb6-4cdd-84a7-24b3a1e8443b",
   "metadata": {},
   "outputs": [],
   "source": [
    "a = np.copy(arr) # this simply creates a deep copy where the new space is created and new variable is pointing it"
   ]
  },
  {
   "cell_type": "code",
   "execution_count": 17,
   "id": "e1683376-512d-4ed5-aa7b-ae9a8fba1ba0",
   "metadata": {},
   "outputs": [
    {
     "data": {
      "text/plain": [
       "array([ 4,  2,  3,  5, 86,  1, 25, 36, 45])"
      ]
     },
     "execution_count": 17,
     "metadata": {},
     "output_type": "execute_result"
    }
   ],
   "source": [
    "a"
   ]
  },
  {
   "cell_type": "code",
   "execution_count": 26,
   "id": "0716543f-de5f-44ba-b747-5b2393979243",
   "metadata": {},
   "outputs": [],
   "source": [
    "b = arr.view() # this creates a shallow copy where the new instance also references the same copy"
   ]
  },
  {
   "cell_type": "code",
   "execution_count": 20,
   "id": "41efb89a-0ac9-4e08-8872-05ee868d9a61",
   "metadata": {},
   "outputs": [
    {
     "data": {
      "text/plain": [
       "array([ 4,  2,  3,  5, 86,  1, 25, 36, 45])"
      ]
     },
     "execution_count": 20,
     "metadata": {},
     "output_type": "execute_result"
    }
   ],
   "source": [
    "b"
   ]
  },
  {
   "cell_type": "code",
   "execution_count": 21,
   "id": "0ce9f080-fb5b-402f-9574-4914e8e0283e",
   "metadata": {},
   "outputs": [
    {
     "data": {
      "text/plain": [
       "4"
      ]
     },
     "execution_count": 21,
     "metadata": {},
     "output_type": "execute_result"
    }
   ],
   "source": [
    "b[0]"
   ]
  },
  {
   "cell_type": "code",
   "execution_count": 22,
   "id": "2bfda392-fcdd-4596-8f91-dc5750b9c8f9",
   "metadata": {},
   "outputs": [],
   "source": [
    "b[0] = 69"
   ]
  },
  {
   "cell_type": "code",
   "execution_count": 23,
   "id": "681e4ede-bb97-48ba-b2e8-26caa1b0b13c",
   "metadata": {},
   "outputs": [
    {
     "data": {
      "text/plain": [
       "array([69,  2,  3,  5, 86,  1, 25, 36, 45])"
      ]
     },
     "execution_count": 23,
     "metadata": {},
     "output_type": "execute_result"
    }
   ],
   "source": [
    "b"
   ]
  },
  {
   "cell_type": "code",
   "execution_count": 24,
   "id": "5b69acb9-d433-4c68-a2f0-d3bac082a625",
   "metadata": {},
   "outputs": [
    {
     "data": {
      "text/plain": [
       "array([69,  2,  3,  5, 86,  1, 25, 36, 45])"
      ]
     },
     "execution_count": 24,
     "metadata": {},
     "output_type": "execute_result"
    }
   ],
   "source": [
    "arr"
   ]
  },
  {
   "cell_type": "markdown",
   "id": "b1a79ffd-5a3b-434b-a79f-d0439a0c6a99",
   "metadata": {},
   "source": [
    "## Numpy Matrix Library"
   ]
  },
  {
   "cell_type": "code",
   "execution_count": 27,
   "id": "eafcd7ac-426d-4841-93b0-ea741d08dee5",
   "metadata": {},
   "outputs": [],
   "source": [
    "import numpy.matlib as nm"
   ]
  },
  {
   "cell_type": "code",
   "execution_count": 28,
   "id": "a1759510-7faf-4345-ba80-ec1db8c807a9",
   "metadata": {},
   "outputs": [
    {
     "data": {
      "text/plain": [
       "matrix([[0., 0., 0., 0., 0.]])"
      ]
     },
     "execution_count": 28,
     "metadata": {},
     "output_type": "execute_result"
    }
   ],
   "source": [
    "nm.zeros(5)"
   ]
  },
  {
   "cell_type": "code",
   "execution_count": 29,
   "id": "b9d61a9c-f697-411f-8308-a46b894dee7d",
   "metadata": {},
   "outputs": [
    {
     "data": {
      "text/plain": [
       "matrix([[1., 1., 1., 1.],\n",
       "        [1., 1., 1., 1.],\n",
       "        [1., 1., 1., 1.]])"
      ]
     },
     "execution_count": 29,
     "metadata": {},
     "output_type": "execute_result"
    }
   ],
   "source": [
    "nm.ones((3,4))"
   ]
  },
  {
   "cell_type": "code",
   "execution_count": 31,
   "id": "3bcf3b28-2782-446c-adae-5f2fb7a1f4d1",
   "metadata": {},
   "outputs": [
    {
     "data": {
      "text/plain": [
       "matrix([[1., 0., 0., 0., 0.],\n",
       "        [0., 1., 0., 0., 0.],\n",
       "        [0., 0., 1., 0., 0.],\n",
       "        [0., 0., 0., 1., 0.],\n",
       "        [0., 0., 0., 0., 1.]])"
      ]
     },
     "execution_count": 31,
     "metadata": {},
     "output_type": "execute_result"
    }
   ],
   "source": [
    "nm.eye(5) # for generating identity matrix"
   ]
  },
  {
   "cell_type": "code",
   "execution_count": 32,
   "id": "fca85ee1-335a-4033-a45b-5ebcae984f45",
   "metadata": {},
   "outputs": [],
   "source": [
    "# Numpy Linera Algebra"
   ]
  },
  {
   "cell_type": "code",
   "execution_count": 33,
   "id": "5b5f6050-b8b8-4b63-abf1-ce11f3aeab4f",
   "metadata": {},
   "outputs": [],
   "source": [
    "arr1 = np.random.randint([[2,3],[4,5]])"
   ]
  },
  {
   "cell_type": "code",
   "execution_count": 34,
   "id": "48f7c239-2ee7-48b3-8cdb-50dc1b9e7f39",
   "metadata": {},
   "outputs": [
    {
     "data": {
      "text/plain": [
       "array([[1, 1],\n",
       "       [0, 0]])"
      ]
     },
     "execution_count": 34,
     "metadata": {},
     "output_type": "execute_result"
    }
   ],
   "source": [
    "arr1"
   ]
  },
  {
   "cell_type": "code",
   "execution_count": 35,
   "id": "841901fa-e3bb-44d2-9982-9a8dc47c253d",
   "metadata": {},
   "outputs": [],
   "source": [
    "arr2 = np.random.randint([[5,3],[2,5]])"
   ]
  },
  {
   "cell_type": "code",
   "execution_count": 36,
   "id": "055fba54-a47f-411b-894c-1c23f3dc379b",
   "metadata": {},
   "outputs": [
    {
     "data": {
      "text/plain": [
       "array([[4, 2],\n",
       "       [0, 2]])"
      ]
     },
     "execution_count": 36,
     "metadata": {},
     "output_type": "execute_result"
    }
   ],
   "source": [
    "arr2"
   ]
  },
  {
   "cell_type": "code",
   "execution_count": 37,
   "id": "261aa7eb-4ab2-4b3a-b7d2-a0ce4366f133",
   "metadata": {},
   "outputs": [
    {
     "data": {
      "text/plain": [
       "array([[4, 4],\n",
       "       [0, 0]])"
      ]
     },
     "execution_count": 37,
     "metadata": {},
     "output_type": "execute_result"
    }
   ],
   "source": [
    "np.dot(arr1,arr2)"
   ]
  },
  {
   "cell_type": "code",
   "execution_count": 38,
   "id": "571ac888-6fd5-4ae5-8743-bb5ff2661bad",
   "metadata": {},
   "outputs": [
    {
     "data": {
      "text/plain": [
       "array([[4, 4],\n",
       "       [0, 0]])"
      ]
     },
     "execution_count": 38,
     "metadata": {},
     "output_type": "execute_result"
    }
   ],
   "source": [
    "arr1@arr2"
   ]
  },
  {
   "cell_type": "code",
   "execution_count": null,
   "id": "3d1bb46f-f595-4cc8-8962-1f942a3401f1",
   "metadata": {},
   "outputs": [],
   "source": []
  }
 ],
 "metadata": {
  "kernelspec": {
   "display_name": "Python 3 (ipykernel)",
   "language": "python",
   "name": "python3"
  },
  "language_info": {
   "codemirror_mode": {
    "name": "ipython",
    "version": 3
   },
   "file_extension": ".py",
   "mimetype": "text/x-python",
   "name": "python",
   "nbconvert_exporter": "python",
   "pygments_lexer": "ipython3",
   "version": "3.10.8"
  }
 },
 "nbformat": 4,
 "nbformat_minor": 5
}
